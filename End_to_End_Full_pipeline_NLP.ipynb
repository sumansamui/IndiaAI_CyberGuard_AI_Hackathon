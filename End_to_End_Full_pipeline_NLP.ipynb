{
 "cells": [
  {
   "cell_type": "markdown",
   "metadata": {
    "id": "Flq7bLfRZ7lk"
   },
   "source": [
    "## This repository contains an end-to-end pipeline for developing an NLP model (text classifier) that categorizes complaints based on victim, type of fraud, and other relevant parameters. \n",
    "\n",
    "## The code contains the following necessary steps:\n",
    "\n",
    "- **Text Preprocessing**: Tokenization, stop word removal, stemming, and text cleaning to prepare data.\n",
    "- **Model Development**: Selection of a suitable NLP model for text classification. The following models are explored: Naive Bayes, Random Forrest, XGBoost, SVM (RBF), SVM (polynomial), DistilBERT Model. \n",
    "\n",
    "- **Accuracy Measurement**: Evaluate the model based on metrics such as accuracy, precision, recall, and F1-score.\n"
   ]
  },
  {
   "cell_type": "code",
   "execution_count": 53,
   "metadata": {
    "colab": {
     "base_uri": "https://localhost:8080/"
    },
    "collapsed": true,
    "id": "bKemLR_eufnt",
    "outputId": "540d57f9-4500-4d3e-f2db-9136216e73c9"
   },
   "outputs": [
    {
     "name": "stderr",
     "output_type": "stream",
     "text": [
      "[nltk_data] Downloading collection 'all'\n",
      "[nltk_data]    | \n",
      "[nltk_data]    | Downloading package abc to /home/ec.gpu/nltk_data...\n",
      "[nltk_data]    |   Package abc is already up-to-date!\n",
      "[nltk_data]    | Downloading package alpino to\n",
      "[nltk_data]    |     /home/ec.gpu/nltk_data...\n",
      "[nltk_data]    |   Package alpino is already up-to-date!\n",
      "[nltk_data]    | Downloading package averaged_perceptron_tagger to\n",
      "[nltk_data]    |     /home/ec.gpu/nltk_data...\n",
      "[nltk_data]    |   Package averaged_perceptron_tagger is already up-\n",
      "[nltk_data]    |       to-date!\n",
      "[nltk_data]    | Downloading package averaged_perceptron_tagger_eng to\n",
      "[nltk_data]    |     /home/ec.gpu/nltk_data...\n",
      "[nltk_data]    |   Package averaged_perceptron_tagger_eng is already\n",
      "[nltk_data]    |       up-to-date!\n",
      "[nltk_data]    | Downloading package averaged_perceptron_tagger_ru to\n",
      "[nltk_data]    |     /home/ec.gpu/nltk_data...\n",
      "[nltk_data]    |   Package averaged_perceptron_tagger_ru is already\n",
      "[nltk_data]    |       up-to-date!\n",
      "[nltk_data]    | Downloading package averaged_perceptron_tagger_rus to\n",
      "[nltk_data]    |     /home/ec.gpu/nltk_data...\n",
      "[nltk_data]    |   Package averaged_perceptron_tagger_rus is already\n",
      "[nltk_data]    |       up-to-date!\n",
      "[nltk_data]    | Downloading package basque_grammars to\n",
      "[nltk_data]    |     /home/ec.gpu/nltk_data...\n",
      "[nltk_data]    |   Package basque_grammars is already up-to-date!\n",
      "[nltk_data]    | Downloading package bcp47 to\n",
      "[nltk_data]    |     /home/ec.gpu/nltk_data...\n",
      "[nltk_data]    |   Package bcp47 is already up-to-date!\n",
      "[nltk_data]    | Downloading package biocreative_ppi to\n",
      "[nltk_data]    |     /home/ec.gpu/nltk_data...\n",
      "[nltk_data]    |   Package biocreative_ppi is already up-to-date!\n",
      "[nltk_data]    | Downloading package bllip_wsj_no_aux to\n",
      "[nltk_data]    |     /home/ec.gpu/nltk_data...\n",
      "[nltk_data]    |   Package bllip_wsj_no_aux is already up-to-date!\n",
      "[nltk_data]    | Downloading package book_grammars to\n",
      "[nltk_data]    |     /home/ec.gpu/nltk_data...\n",
      "[nltk_data]    |   Package book_grammars is already up-to-date!\n",
      "[nltk_data]    | Downloading package brown to\n",
      "[nltk_data]    |     /home/ec.gpu/nltk_data...\n",
      "[nltk_data]    |   Package brown is already up-to-date!\n",
      "[nltk_data]    | Downloading package brown_tei to\n",
      "[nltk_data]    |     /home/ec.gpu/nltk_data...\n",
      "[nltk_data]    |   Package brown_tei is already up-to-date!\n",
      "[nltk_data]    | Downloading package cess_cat to\n",
      "[nltk_data]    |     /home/ec.gpu/nltk_data...\n",
      "[nltk_data]    |   Package cess_cat is already up-to-date!\n",
      "[nltk_data]    | Downloading package cess_esp to\n",
      "[nltk_data]    |     /home/ec.gpu/nltk_data...\n",
      "[nltk_data]    |   Package cess_esp is already up-to-date!\n",
      "[nltk_data]    | Downloading package chat80 to\n",
      "[nltk_data]    |     /home/ec.gpu/nltk_data...\n",
      "[nltk_data]    |   Package chat80 is already up-to-date!\n",
      "[nltk_data]    | Downloading package city_database to\n",
      "[nltk_data]    |     /home/ec.gpu/nltk_data...\n",
      "[nltk_data]    |   Package city_database is already up-to-date!\n",
      "[nltk_data]    | Downloading package cmudict to\n",
      "[nltk_data]    |     /home/ec.gpu/nltk_data...\n",
      "[nltk_data]    |   Package cmudict is already up-to-date!\n",
      "[nltk_data]    | Downloading package comparative_sentences to\n",
      "[nltk_data]    |     /home/ec.gpu/nltk_data...\n",
      "[nltk_data]    |   Package comparative_sentences is already up-to-\n",
      "[nltk_data]    |       date!\n",
      "[nltk_data]    | Downloading package comtrans to\n",
      "[nltk_data]    |     /home/ec.gpu/nltk_data...\n",
      "[nltk_data]    |   Package comtrans is already up-to-date!\n",
      "[nltk_data]    | Downloading package conll2000 to\n",
      "[nltk_data]    |     /home/ec.gpu/nltk_data...\n",
      "[nltk_data]    |   Package conll2000 is already up-to-date!\n",
      "[nltk_data]    | Downloading package conll2002 to\n",
      "[nltk_data]    |     /home/ec.gpu/nltk_data...\n",
      "[nltk_data]    |   Package conll2002 is already up-to-date!\n",
      "[nltk_data]    | Downloading package conll2007 to\n",
      "[nltk_data]    |     /home/ec.gpu/nltk_data...\n",
      "[nltk_data]    |   Package conll2007 is already up-to-date!\n",
      "[nltk_data]    | Downloading package crubadan to\n",
      "[nltk_data]    |     /home/ec.gpu/nltk_data...\n",
      "[nltk_data]    |   Package crubadan is already up-to-date!\n",
      "[nltk_data]    | Downloading package dependency_treebank to\n",
      "[nltk_data]    |     /home/ec.gpu/nltk_data...\n",
      "[nltk_data]    |   Package dependency_treebank is already up-to-date!\n",
      "[nltk_data]    | Downloading package dolch to\n",
      "[nltk_data]    |     /home/ec.gpu/nltk_data...\n",
      "[nltk_data]    |   Package dolch is already up-to-date!\n",
      "[nltk_data]    | Downloading package europarl_raw to\n",
      "[nltk_data]    |     /home/ec.gpu/nltk_data...\n",
      "[nltk_data]    |   Package europarl_raw is already up-to-date!\n",
      "[nltk_data]    | Downloading package extended_omw to\n",
      "[nltk_data]    |     /home/ec.gpu/nltk_data...\n",
      "[nltk_data]    |   Package extended_omw is already up-to-date!\n",
      "[nltk_data]    | Downloading package floresta to\n",
      "[nltk_data]    |     /home/ec.gpu/nltk_data...\n",
      "[nltk_data]    |   Package floresta is already up-to-date!\n",
      "[nltk_data]    | Downloading package framenet_v15 to\n",
      "[nltk_data]    |     /home/ec.gpu/nltk_data...\n",
      "[nltk_data]    |   Package framenet_v15 is already up-to-date!\n",
      "[nltk_data]    | Downloading package framenet_v17 to\n",
      "[nltk_data]    |     /home/ec.gpu/nltk_data...\n",
      "[nltk_data]    |   Package framenet_v17 is already up-to-date!\n",
      "[nltk_data]    | Downloading package gazetteers to\n",
      "[nltk_data]    |     /home/ec.gpu/nltk_data...\n",
      "[nltk_data]    |   Package gazetteers is already up-to-date!\n",
      "[nltk_data]    | Downloading package genesis to\n",
      "[nltk_data]    |     /home/ec.gpu/nltk_data...\n",
      "[nltk_data]    |   Package genesis is already up-to-date!\n",
      "[nltk_data]    | Downloading package gutenberg to\n",
      "[nltk_data]    |     /home/ec.gpu/nltk_data...\n",
      "[nltk_data]    |   Package gutenberg is already up-to-date!\n",
      "[nltk_data]    | Downloading package ieer to /home/ec.gpu/nltk_data...\n",
      "[nltk_data]    |   Package ieer is already up-to-date!\n",
      "[nltk_data]    | Downloading package inaugural to\n",
      "[nltk_data]    |     /home/ec.gpu/nltk_data...\n",
      "[nltk_data]    |   Package inaugural is already up-to-date!\n",
      "[nltk_data]    | Downloading package indian to\n",
      "[nltk_data]    |     /home/ec.gpu/nltk_data...\n",
      "[nltk_data]    |   Package indian is already up-to-date!\n",
      "[nltk_data]    | Downloading package jeita to\n",
      "[nltk_data]    |     /home/ec.gpu/nltk_data...\n",
      "[nltk_data]    |   Package jeita is already up-to-date!\n",
      "[nltk_data]    | Downloading package kimmo to\n",
      "[nltk_data]    |     /home/ec.gpu/nltk_data...\n",
      "[nltk_data]    |   Package kimmo is already up-to-date!\n",
      "[nltk_data]    | Downloading package knbc to /home/ec.gpu/nltk_data...\n",
      "[nltk_data]    |   Package knbc is already up-to-date!\n",
      "[nltk_data]    | Downloading package large_grammars to\n",
      "[nltk_data]    |     /home/ec.gpu/nltk_data...\n",
      "[nltk_data]    |   Package large_grammars is already up-to-date!\n",
      "[nltk_data]    | Downloading package lin_thesaurus to\n",
      "[nltk_data]    |     /home/ec.gpu/nltk_data...\n",
      "[nltk_data]    |   Package lin_thesaurus is already up-to-date!\n",
      "[nltk_data]    | Downloading package mac_morpho to\n",
      "[nltk_data]    |     /home/ec.gpu/nltk_data...\n",
      "[nltk_data]    |   Package mac_morpho is already up-to-date!\n",
      "[nltk_data]    | Downloading package machado to\n",
      "[nltk_data]    |     /home/ec.gpu/nltk_data...\n",
      "[nltk_data]    |   Package machado is already up-to-date!\n",
      "[nltk_data]    | Downloading package masc_tagged to\n",
      "[nltk_data]    |     /home/ec.gpu/nltk_data...\n",
      "[nltk_data]    |   Package masc_tagged is already up-to-date!\n",
      "[nltk_data]    | Downloading package maxent_ne_chunker to\n",
      "[nltk_data]    |     /home/ec.gpu/nltk_data...\n",
      "[nltk_data]    |   Package maxent_ne_chunker is already up-to-date!\n",
      "[nltk_data]    | Downloading package maxent_ne_chunker_tab to\n",
      "[nltk_data]    |     /home/ec.gpu/nltk_data...\n",
      "[nltk_data]    |   Package maxent_ne_chunker_tab is already up-to-\n",
      "[nltk_data]    |       date!\n",
      "[nltk_data]    | Downloading package maxent_treebank_pos_tagger to\n",
      "[nltk_data]    |     /home/ec.gpu/nltk_data...\n",
      "[nltk_data]    |   Package maxent_treebank_pos_tagger is already up-\n",
      "[nltk_data]    |       to-date!\n",
      "[nltk_data]    | Downloading package maxent_treebank_pos_tagger_tab to\n",
      "[nltk_data]    |     /home/ec.gpu/nltk_data...\n",
      "[nltk_data]    |   Package maxent_treebank_pos_tagger_tab is already\n",
      "[nltk_data]    |       up-to-date!\n",
      "[nltk_data]    | Downloading package moses_sample to\n",
      "[nltk_data]    |     /home/ec.gpu/nltk_data...\n",
      "[nltk_data]    |   Package moses_sample is already up-to-date!\n",
      "[nltk_data]    | Downloading package movie_reviews to\n",
      "[nltk_data]    |     /home/ec.gpu/nltk_data...\n",
      "[nltk_data]    |   Package movie_reviews is already up-to-date!\n",
      "[nltk_data]    | Downloading package mte_teip5 to\n",
      "[nltk_data]    |     /home/ec.gpu/nltk_data...\n",
      "[nltk_data]    |   Package mte_teip5 is already up-to-date!\n",
      "[nltk_data]    | Downloading package mwa_ppdb to\n",
      "[nltk_data]    |     /home/ec.gpu/nltk_data...\n",
      "[nltk_data]    |   Package mwa_ppdb is already up-to-date!\n",
      "[nltk_data]    | Downloading package names to\n",
      "[nltk_data]    |     /home/ec.gpu/nltk_data...\n",
      "[nltk_data]    |   Package names is already up-to-date!\n",
      "[nltk_data]    | Downloading package nombank.1.0 to\n",
      "[nltk_data]    |     /home/ec.gpu/nltk_data...\n",
      "[nltk_data]    |   Package nombank.1.0 is already up-to-date!\n",
      "[nltk_data]    | Downloading package nonbreaking_prefixes to\n",
      "[nltk_data]    |     /home/ec.gpu/nltk_data...\n",
      "[nltk_data]    |   Package nonbreaking_prefixes is already up-to-date!\n",
      "[nltk_data]    | Downloading package nps_chat to\n",
      "[nltk_data]    |     /home/ec.gpu/nltk_data...\n",
      "[nltk_data]    |   Package nps_chat is already up-to-date!\n",
      "[nltk_data]    | Downloading package omw to /home/ec.gpu/nltk_data...\n",
      "[nltk_data]    |   Package omw is already up-to-date!\n",
      "[nltk_data]    | Downloading package omw-1.4 to\n",
      "[nltk_data]    |     /home/ec.gpu/nltk_data...\n",
      "[nltk_data]    |   Package omw-1.4 is already up-to-date!\n",
      "[nltk_data]    | Downloading package opinion_lexicon to\n",
      "[nltk_data]    |     /home/ec.gpu/nltk_data...\n",
      "[nltk_data]    |   Package opinion_lexicon is already up-to-date!\n",
      "[nltk_data]    | Downloading package panlex_swadesh to\n",
      "[nltk_data]    |     /home/ec.gpu/nltk_data...\n",
      "[nltk_data]    |   Package panlex_swadesh is already up-to-date!\n",
      "[nltk_data]    | Downloading package paradigms to\n",
      "[nltk_data]    |     /home/ec.gpu/nltk_data...\n",
      "[nltk_data]    |   Package paradigms is already up-to-date!\n",
      "[nltk_data]    | Downloading package pe08 to /home/ec.gpu/nltk_data...\n",
      "[nltk_data]    |   Package pe08 is already up-to-date!\n",
      "[nltk_data]    | Downloading package perluniprops to\n",
      "[nltk_data]    |     /home/ec.gpu/nltk_data...\n",
      "[nltk_data]    |   Package perluniprops is already up-to-date!\n",
      "[nltk_data]    | Downloading package pil to /home/ec.gpu/nltk_data...\n",
      "[nltk_data]    |   Package pil is already up-to-date!\n",
      "[nltk_data]    | Downloading package pl196x to\n",
      "[nltk_data]    |     /home/ec.gpu/nltk_data...\n",
      "[nltk_data]    |   Package pl196x is already up-to-date!\n",
      "[nltk_data]    | Downloading package porter_test to\n",
      "[nltk_data]    |     /home/ec.gpu/nltk_data...\n",
      "[nltk_data]    |   Package porter_test is already up-to-date!\n",
      "[nltk_data]    | Downloading package ppattach to\n",
      "[nltk_data]    |     /home/ec.gpu/nltk_data...\n",
      "[nltk_data]    |   Package ppattach is already up-to-date!\n",
      "[nltk_data]    | Downloading package problem_reports to\n",
      "[nltk_data]    |     /home/ec.gpu/nltk_data...\n",
      "[nltk_data]    |   Package problem_reports is already up-to-date!\n",
      "[nltk_data]    | Downloading package product_reviews_1 to\n",
      "[nltk_data]    |     /home/ec.gpu/nltk_data...\n",
      "[nltk_data]    |   Package product_reviews_1 is already up-to-date!\n",
      "[nltk_data]    | Downloading package product_reviews_2 to\n",
      "[nltk_data]    |     /home/ec.gpu/nltk_data...\n",
      "[nltk_data]    |   Package product_reviews_2 is already up-to-date!\n",
      "[nltk_data]    | Downloading package propbank to\n",
      "[nltk_data]    |     /home/ec.gpu/nltk_data...\n",
      "[nltk_data]    |   Package propbank is already up-to-date!\n",
      "[nltk_data]    | Downloading package pros_cons to\n",
      "[nltk_data]    |     /home/ec.gpu/nltk_data...\n",
      "[nltk_data]    |   Package pros_cons is already up-to-date!\n",
      "[nltk_data]    | Downloading package ptb to /home/ec.gpu/nltk_data...\n",
      "[nltk_data]    |   Package ptb is already up-to-date!\n",
      "[nltk_data]    | Downloading package punkt to\n",
      "[nltk_data]    |     /home/ec.gpu/nltk_data...\n",
      "[nltk_data]    |   Package punkt is already up-to-date!\n",
      "[nltk_data]    | Downloading package punkt_tab to\n",
      "[nltk_data]    |     /home/ec.gpu/nltk_data...\n",
      "[nltk_data]    |   Package punkt_tab is already up-to-date!\n",
      "[nltk_data]    | Downloading package qc to /home/ec.gpu/nltk_data...\n",
      "[nltk_data]    |   Package qc is already up-to-date!\n",
      "[nltk_data]    | Downloading package reuters to\n",
      "[nltk_data]    |     /home/ec.gpu/nltk_data...\n",
      "[nltk_data]    |   Package reuters is already up-to-date!\n",
      "[nltk_data]    | Downloading package rslp to /home/ec.gpu/nltk_data...\n",
      "[nltk_data]    |   Package rslp is already up-to-date!\n",
      "[nltk_data]    | Downloading package rte to /home/ec.gpu/nltk_data...\n",
      "[nltk_data]    |   Package rte is already up-to-date!\n",
      "[nltk_data]    | Downloading package sample_grammars to\n",
      "[nltk_data]    |     /home/ec.gpu/nltk_data...\n",
      "[nltk_data]    |   Package sample_grammars is already up-to-date!\n",
      "[nltk_data]    | Downloading package semcor to\n",
      "[nltk_data]    |     /home/ec.gpu/nltk_data...\n",
      "[nltk_data]    |   Package semcor is already up-to-date!\n",
      "[nltk_data]    | Downloading package senseval to\n",
      "[nltk_data]    |     /home/ec.gpu/nltk_data...\n",
      "[nltk_data]    |   Package senseval is already up-to-date!\n",
      "[nltk_data]    | Downloading package sentence_polarity to\n",
      "[nltk_data]    |     /home/ec.gpu/nltk_data...\n",
      "[nltk_data]    |   Package sentence_polarity is already up-to-date!\n",
      "[nltk_data]    | Downloading package sentiwordnet to\n",
      "[nltk_data]    |     /home/ec.gpu/nltk_data...\n",
      "[nltk_data]    |   Package sentiwordnet is already up-to-date!\n",
      "[nltk_data]    | Downloading package shakespeare to\n",
      "[nltk_data]    |     /home/ec.gpu/nltk_data...\n",
      "[nltk_data]    |   Package shakespeare is already up-to-date!\n",
      "[nltk_data]    | Downloading package sinica_treebank to\n",
      "[nltk_data]    |     /home/ec.gpu/nltk_data...\n",
      "[nltk_data]    |   Package sinica_treebank is already up-to-date!\n",
      "[nltk_data]    | Downloading package smultron to\n",
      "[nltk_data]    |     /home/ec.gpu/nltk_data...\n",
      "[nltk_data]    |   Package smultron is already up-to-date!\n",
      "[nltk_data]    | Downloading package snowball_data to\n",
      "[nltk_data]    |     /home/ec.gpu/nltk_data...\n",
      "[nltk_data]    |   Package snowball_data is already up-to-date!\n",
      "[nltk_data]    | Downloading package spanish_grammars to\n",
      "[nltk_data]    |     /home/ec.gpu/nltk_data...\n",
      "[nltk_data]    |   Package spanish_grammars is already up-to-date!\n",
      "[nltk_data]    | Downloading package state_union to\n",
      "[nltk_data]    |     /home/ec.gpu/nltk_data...\n",
      "[nltk_data]    |   Package state_union is already up-to-date!\n",
      "[nltk_data]    | Downloading package stopwords to\n",
      "[nltk_data]    |     /home/ec.gpu/nltk_data...\n",
      "[nltk_data]    |   Package stopwords is already up-to-date!\n",
      "[nltk_data]    | Downloading package subjectivity to\n",
      "[nltk_data]    |     /home/ec.gpu/nltk_data...\n",
      "[nltk_data]    |   Package subjectivity is already up-to-date!\n",
      "[nltk_data]    | Downloading package swadesh to\n",
      "[nltk_data]    |     /home/ec.gpu/nltk_data...\n",
      "[nltk_data]    |   Package swadesh is already up-to-date!\n",
      "[nltk_data]    | Downloading package switchboard to\n",
      "[nltk_data]    |     /home/ec.gpu/nltk_data...\n",
      "[nltk_data]    |   Package switchboard is already up-to-date!\n",
      "[nltk_data]    | Downloading package tagsets to\n",
      "[nltk_data]    |     /home/ec.gpu/nltk_data...\n",
      "[nltk_data]    |   Package tagsets is already up-to-date!\n",
      "[nltk_data]    | Downloading package tagsets_json to\n",
      "[nltk_data]    |     /home/ec.gpu/nltk_data...\n",
      "[nltk_data]    |   Package tagsets_json is already up-to-date!\n",
      "[nltk_data]    | Downloading package timit to\n",
      "[nltk_data]    |     /home/ec.gpu/nltk_data...\n",
      "[nltk_data]    |   Package timit is already up-to-date!\n",
      "[nltk_data]    | Downloading package toolbox to\n",
      "[nltk_data]    |     /home/ec.gpu/nltk_data...\n",
      "[nltk_data]    |   Package toolbox is already up-to-date!\n",
      "[nltk_data]    | Downloading package treebank to\n",
      "[nltk_data]    |     /home/ec.gpu/nltk_data...\n",
      "[nltk_data]    |   Package treebank is already up-to-date!\n",
      "[nltk_data]    | Downloading package twitter_samples to\n",
      "[nltk_data]    |     /home/ec.gpu/nltk_data...\n",
      "[nltk_data]    |   Package twitter_samples is already up-to-date!\n",
      "[nltk_data]    | Downloading package udhr to /home/ec.gpu/nltk_data...\n",
      "[nltk_data]    |   Package udhr is already up-to-date!\n",
      "[nltk_data]    | Downloading package udhr2 to\n",
      "[nltk_data]    |     /home/ec.gpu/nltk_data...\n",
      "[nltk_data]    |   Package udhr2 is already up-to-date!\n",
      "[nltk_data]    | Downloading package unicode_samples to\n",
      "[nltk_data]    |     /home/ec.gpu/nltk_data...\n",
      "[nltk_data]    |   Package unicode_samples is already up-to-date!\n",
      "[nltk_data]    | Downloading package universal_tagset to\n",
      "[nltk_data]    |     /home/ec.gpu/nltk_data...\n",
      "[nltk_data]    |   Package universal_tagset is already up-to-date!\n",
      "[nltk_data]    | Downloading package universal_treebanks_v20 to\n",
      "[nltk_data]    |     /home/ec.gpu/nltk_data...\n",
      "[nltk_data]    |   Package universal_treebanks_v20 is already up-to-\n",
      "[nltk_data]    |       date!\n",
      "[nltk_data]    | Downloading package vader_lexicon to\n",
      "[nltk_data]    |     /home/ec.gpu/nltk_data...\n",
      "[nltk_data]    |   Package vader_lexicon is already up-to-date!\n",
      "[nltk_data]    | Downloading package verbnet to\n",
      "[nltk_data]    |     /home/ec.gpu/nltk_data...\n",
      "[nltk_data]    |   Package verbnet is already up-to-date!\n",
      "[nltk_data]    | Downloading package verbnet3 to\n",
      "[nltk_data]    |     /home/ec.gpu/nltk_data...\n",
      "[nltk_data]    |   Package verbnet3 is already up-to-date!\n",
      "[nltk_data]    | Downloading package webtext to\n",
      "[nltk_data]    |     /home/ec.gpu/nltk_data...\n",
      "[nltk_data]    |   Package webtext is already up-to-date!\n",
      "[nltk_data]    | Downloading package wmt15_eval to\n",
      "[nltk_data]    |     /home/ec.gpu/nltk_data...\n",
      "[nltk_data]    |   Package wmt15_eval is already up-to-date!\n",
      "[nltk_data]    | Downloading package word2vec_sample to\n",
      "[nltk_data]    |     /home/ec.gpu/nltk_data...\n",
      "[nltk_data]    |   Package word2vec_sample is already up-to-date!\n",
      "[nltk_data]    | Downloading package wordnet to\n",
      "[nltk_data]    |     /home/ec.gpu/nltk_data...\n",
      "[nltk_data]    |   Package wordnet is already up-to-date!\n",
      "[nltk_data]    | Downloading package wordnet2021 to\n",
      "[nltk_data]    |     /home/ec.gpu/nltk_data...\n",
      "[nltk_data]    |   Package wordnet2021 is already up-to-date!\n",
      "[nltk_data]    | Downloading package wordnet2022 to\n",
      "[nltk_data]    |     /home/ec.gpu/nltk_data...\n",
      "[nltk_data]    |   Package wordnet2022 is already up-to-date!\n",
      "[nltk_data]    | Downloading package wordnet31 to\n",
      "[nltk_data]    |     /home/ec.gpu/nltk_data...\n",
      "[nltk_data]    |   Package wordnet31 is already up-to-date!\n",
      "[nltk_data]    | Downloading package wordnet_ic to\n",
      "[nltk_data]    |     /home/ec.gpu/nltk_data...\n",
      "[nltk_data]    |   Package wordnet_ic is already up-to-date!\n",
      "[nltk_data]    | Downloading package words to\n",
      "[nltk_data]    |     /home/ec.gpu/nltk_data...\n",
      "[nltk_data]    |   Package words is already up-to-date!\n",
      "[nltk_data]    | Downloading package ycoe to /home/ec.gpu/nltk_data...\n",
      "[nltk_data]    |   Package ycoe is already up-to-date!\n",
      "[nltk_data]    | \n",
      "[nltk_data]  Done downloading collection all\n"
     ]
    }
   ],
   "source": [
    "import pandas as pd\n",
    "import numpy as np\n",
    "import string\n",
    "import re\n",
    "import matplotlib.pyplot as plt\n",
    "import nltk\n",
    "nltk.download('all')\n",
    "from nltk.stem import PorterStemmer\n",
    "from nltk.corpus import stopwords\n",
    "from nltk.tokenize import word_tokenize\n",
    "from nltk.stem import WordNetLemmatizer\n",
    "import string\n",
    "from sklearn.preprocessing import LabelEncoder\n",
    "from sklearn.feature_extraction.text import CountVectorizer\n",
    "from sklearn.model_selection import train_test_split\n",
    "from sklearn.feature_extraction.text import TfidfVectorizer\n"
   ]
  },
  {
   "cell_type": "markdown",
   "metadata": {
    "id": "klaMQPp1aGBB"
   },
   "source": [
    "# Loading the train and test sets"
   ]
  },
  {
   "cell_type": "code",
   "execution_count": 54,
   "metadata": {
    "id": "HyzxcayC8fnR"
   },
   "outputs": [],
   "source": [
    "data = pd.read_csv(\"train.csv\", encoding=\"ISO-8859-1\")\n",
    "test = pd.read_csv(\"test.csv\")\n",
    "data = data.rename(columns={'crimeaditionalinfo': 'text'})\n",
    "data = data.dropna(subset=['text'])"
   ]
  },
  {
   "cell_type": "code",
   "execution_count": 55,
   "metadata": {
    "id": "C0eZEDkqPNr0"
   },
   "outputs": [],
   "source": [
    "test = test.rename(columns={'crimeaditionalinfo': 'text'}) # renaming the crime info column\n",
    "test = test.dropna(subset=['text']) # dropping all entries with no information on the crime"
   ]
  },
  {
   "cell_type": "markdown",
   "metadata": {},
   "source": [
    "# EDA and Preprocessing starts..."
   ]
  },
  {
   "cell_type": "markdown",
   "metadata": {
    "id": "WSDd8mqorr7W"
   },
   "source": [
    "# Cleaning nulls in text entry"
   ]
  },
  {
   "cell_type": "code",
   "execution_count": 56,
   "metadata": {
    "colab": {
     "base_uri": "https://localhost:8080/"
    },
    "collapsed": true,
    "id": "DvjTxa4Xu836",
    "outputId": "901cbf52-e1b0-4c62-fc62-b31ee8f40822"
   },
   "outputs": [
    {
     "name": "stdout",
     "output_type": "stream",
     "text": [
      "null count:  6591\n"
     ]
    },
    {
     "name": "stderr",
     "output_type": "stream",
     "text": [
      "/tmp/ipykernel_3861673/3101272462.py:2: FutureWarning: A value is trying to be set on a copy of a DataFrame or Series through chained assignment using an inplace method.\n",
      "The behavior will change in pandas 3.0. This inplace method will never work because the intermediate object on which we are setting values always behaves as a copy.\n",
      "\n",
      "For example, when doing 'df[col].method(value, inplace=True)', try using 'df.method({col: value}, inplace=True)' or df[col] = df[col].method(value) instead, to perform the operation inplace on the original object.\n",
      "\n",
      "\n",
      "  data['sub_category'].fillna(data['category'], inplace=True)\n",
      "/tmp/ipykernel_3861673/3101272462.py:3: FutureWarning: A value is trying to be set on a copy of a DataFrame or Series through chained assignment using an inplace method.\n",
      "The behavior will change in pandas 3.0. This inplace method will never work because the intermediate object on which we are setting values always behaves as a copy.\n",
      "\n",
      "For example, when doing 'df[col].method(value, inplace=True)', try using 'df.method({col: value}, inplace=True)' or df[col] = df[col].method(value) instead, to perform the operation inplace on the original object.\n",
      "\n",
      "\n",
      "  test['sub_category'].fillna(data['category'], inplace=True) # replacing the null entries in sub_category column with the category of the complaint\n"
     ]
    }
   ],
   "source": [
    "null_count = data['sub_category'].isnull().sum()\n",
    "data['sub_category'].fillna(data['category'], inplace=True)\n",
    "test['sub_category'].fillna(data['category'], inplace=True) # replacing the null entries in sub_category column with the category of the complaint\n",
    "print('null count: ', null_count)"
   ]
  },
  {
   "cell_type": "code",
   "execution_count": 57,
   "metadata": {
    "colab": {
     "base_uri": "https://localhost:8080/",
     "height": 1000
    },
    "id": "JV5300HCv6F-",
    "outputId": "9cc23664-4ecb-4609-c3e5-0d2e5f01c706"
   },
   "outputs": [
    {
     "data": {
      "text/plain": [
       "category                                              sub_category                                                        \n",
       "Any Other Cyber Crime                                 Other                                                                   10877\n",
       "Child Pornography CPChild Sexual Abuse Material CSAM  Child Pornography CPChild Sexual Abuse Material CSAM                      379\n",
       "Cryptocurrency Crime                                  Cryptocurrency Fraud                                                      480\n",
       "Cyber Attack/ Dependent Crimes                        Hacking/Defacement                                                        540\n",
       "                                                      Ransomware Attack                                                         534\n",
       "                                                      Malware Attack                                                            521\n",
       "                                                      Tampering with computer source documents                                  517\n",
       "                                                      SQL Injection                                                             508\n",
       "                                                      Denial of Service (DoS)/Distributed Denial of Service (DDOS) attacks      504\n",
       "                                                      Data Breach/Theft                                                         484\n",
       "Cyber Terrorism                                       Cyber Terrorism                                                           161\n",
       "Hacking  Damage to computercomputer system etc        Unauthorised AccessData Breach                                           1114\n",
       "                                                      Email Hacking                                                             349\n",
       "                                                      Damage to computer computer systems etc                                   108\n",
       "                                                      Website DefacementHacking                                                  89\n",
       "                                                      Tampering with computer source documents                                   50\n",
       "Online Cyber Trafficking                              Online Trafficking                                                        183\n",
       "Online Financial Fraud                                UPI Related Frauds                                                      26843\n",
       "                                                      DebitCredit Card FraudSim Swap Fraud                                    10802\n",
       "                                                      Internet Banking Related Fraud                                           8871\n",
       "                                                      Fraud CallVishing                                                        5802\n",
       "                                                      EWallet Related Fraud                                                    4047\n",
       "                                                      DematDepository Fraud                                                     761\n",
       "                                                      Business Email CompromiseEmail Takeover                                   290\n",
       "Online Gambling  Betting                              Online Gambling  Betting                                                  444\n",
       "Online and Social Media Related Crime                 Cyber Bullying  Stalking  Sexting                                        4089\n",
       "                                                      FakeImpersonating Profile                                                2299\n",
       "                                                      Profile Hacking Identity Theft                                           2072\n",
       "                                                      Cheating by Impersonation                                                1987\n",
       "                                                      Online Job Fraud                                                          912\n",
       "                                                      Provocative Speech for unlawful acts                                      417\n",
       "                                                      EMail Phishing                                                            157\n",
       "                                                      Online Matrimonial Fraud                                                  132\n",
       "                                                      Impersonating Email                                                        44\n",
       "                                                      Intimidating Email                                                         29\n",
       "Ransomware                                            Ransomware                                                                 56\n",
       "RapeGang Rape RGRSexually Abusive Content             RapeGang Rape RGRSexually Abusive Content                                2822\n",
       "Report Unlawful Content                               Against Interest of sovereignty or integrity of India                       1\n",
       "Sexually Explicit Act                                 Sexually Explicit Act                                                    1552\n",
       "Sexually Obscene material                             Sexually Obscene material                                                1838\n",
       "Name: count, dtype: int64"
      ]
     },
     "execution_count": 57,
     "metadata": {},
     "output_type": "execute_result"
    }
   ],
   "source": [
    "data.groupby('category')['sub_category'].value_counts() # number of entries and sub categories under each categories"
   ]
  },
  {
   "cell_type": "markdown",
   "metadata": {
    "id": "CPtFotvW9gks"
   },
   "source": [
    "#  Mapping sub categories to respective categories"
   ]
  },
  {
   "cell_type": "code",
   "execution_count": 58,
   "metadata": {
    "colab": {
     "base_uri": "https://localhost:8080/"
    },
    "id": "wfGm-Mjs8PRe",
    "outputId": "2b433842-c564-4b92-a13e-ea79853ed5aa"
   },
   "outputs": [
    {
     "name": "stdout",
     "output_type": "stream",
     "text": [
      "Cryptocurrency Crime\n"
     ]
    }
   ],
   "source": [
    "mapping = data.set_index('sub_category')['category'].to_dict()\n",
    "def get_category(sub_category):\n",
    "    return mapping.get(sub_category)\n",
    "subcategories = data['sub_category'].unique().tolist()\n",
    "\n",
    "print(get_category('Cryptocurrency Fraud')) # Example usecase"
   ]
  },
  {
   "cell_type": "code",
   "execution_count": 59,
   "metadata": {
    "colab": {
     "base_uri": "https://localhost:8080/",
     "height": 753
    },
    "id": "AlJ2RC6zv8p6",
    "outputId": "94f185c3-6df4-4151-8c54-c617a7e2eaac"
   },
   "outputs": [
    {
     "data": {
      "image/png": "[encoded data removed]",
      "text/plain": [
       "<Figure size 1000x800 with 1 Axes>"
      ]
     },
     "metadata": {},
     "output_type": "display_data"
    }
   ],
   "source": [
    "subcat_count = data.groupby('category')['sub_category'].nunique()\n",
    "plt.figure(figsize=(10, 8))\n",
    "plt.pie(subcat_count, labels=subcat_count.index, autopct='%1.1f%%', startangle=140, textprops={'fontsize': 8})\n",
    "plt.title(\"Distribution of Subcategories across Categories\", fontsize=16)\n",
    "plt.tight_layout(pad=3)\n",
    "plt.show()"
   ]
  },
  {
   "cell_type": "markdown",
   "metadata": {
    "id": "zlyfbR0rChhN"
   },
   "source": [
    "# Unique categories in train and test data\n",
    "\n",
    "## Some categories and sub categories are unique to test and train data which cannot be classified on evaluation"
   ]
  },
  {
   "cell_type": "code",
   "execution_count": 60,
   "metadata": {
    "colab": {
     "base_uri": "https://localhost:8080/"
    },
    "id": "ETyxrD5WACIN",
    "outputId": "9b1db6a1-3809-4d0f-bbf4-fdf0baefd89c"
   },
   "outputs": [
    {
     "name": "stdout",
     "output_type": "stream",
     "text": [
      "Subcategories exclusive to 'train' dataframe:\n",
      "['Against Interest of sovereignty or integrity of India']\n",
      "\n",
      "Subcategories exclusive to 'test' dataframe:\n",
      "['Hacking  Damage to computercomputer system etc', 'Cryptocurrency Crime', 'Any Other Cyber Crime', 'Online Financial Fraud', 'Cyber Blackmailing & Threatening', 'Computer Generated CSAM/CSEM', 'Online and Social Media Related Crime', 'Cyber Attack/ Dependent Crimes', 'Sexual Harassment', 'Online Cyber Trafficking']\n"
     ]
    }
   ],
   "source": [
    "unique_data_subcategories = set(data['sub_category'].unique())\n",
    "unique_test_subcategories = set(test['sub_category'].unique())\n",
    "\n",
    "exclusive_in_data_subcategories = unique_data_subcategories - unique_test_subcategories\n",
    "exclusive_in_test_subcategories = unique_test_subcategories - unique_data_subcategories\n",
    "\n",
    "print(\"Subcategories exclusive to 'train' dataframe:\")\n",
    "print(list(exclusive_in_data_subcategories))\n",
    "print(\"\\nSubcategories exclusive to 'test' dataframe:\")\n",
    "print(list(exclusive_in_test_subcategories))\n"
   ]
  },
  {
   "cell_type": "code",
   "execution_count": 61,
   "metadata": {},
   "outputs": [
    {
     "data": {
      "text/plain": [
       "{'Any Other Cyber Crime',\n",
       " 'Computer Generated CSAM/CSEM',\n",
       " 'Cryptocurrency Crime',\n",
       " 'Cyber Attack/ Dependent Crimes',\n",
       " 'Cyber Blackmailing & Threatening',\n",
       " 'Hacking  Damage to computercomputer system etc',\n",
       " 'Online Cyber Trafficking',\n",
       " 'Online Financial Fraud',\n",
       " 'Online and Social Media Related Crime',\n",
       " 'Sexual Harassment'}"
      ]
     },
     "execution_count": 61,
     "metadata": {},
     "output_type": "execute_result"
    }
   ],
   "source": [
    "exclusive_in_test_subcategories"
   ]
  },
  {
   "cell_type": "code",
   "execution_count": 62,
   "metadata": {
    "colab": {
     "base_uri": "https://localhost:8080/"
    },
    "id": "t0EY9hVA_6f1",
    "outputId": "5d8ced38-7b42-46e9-d455-8eab7896f446"
   },
   "outputs": [
    {
     "data": {
      "text/plain": [
       "({'Report Unlawful Content'}, {'Crime Against Women & Children'})"
      ]
     },
     "execution_count": 62,
     "metadata": {},
     "output_type": "execute_result"
    }
   ],
   "source": [
    "unique_data_categories = set(data['category'].unique())\n",
    "unique_test_categories = set(test['category'].unique())\n",
    "\n",
    "exclusive_in_data = unique_data_categories - unique_test_categories\n",
    "exclusive_in_test = unique_test_categories - unique_data_categories\n",
    "\n",
    "exclusive_in_data, exclusive_in_test\n"
   ]
  },
  {
   "cell_type": "markdown",
   "metadata": {
    "id": "fQJriXluch5N"
   },
   "source": [
    "## Distribution of character and word counts"
   ]
  },
  {
   "cell_type": "code",
   "execution_count": 63,
   "metadata": {
    "colab": {
     "base_uri": "https://localhost:8080/",
     "height": 607
    },
    "id": "-StKXa8Kv_Ki",
    "outputId": "d4803866-3e16-44a1-acaf-04717a7d74b5"
   },
   "outputs": [
    {
     "data": {
      "image/png": "[encoded data removed]",
      "text/plain": [
       "<Figure size 1000x600 with 1 Axes>"
      ]
     },
     "metadata": {},
     "output_type": "display_data"
    }
   ],
   "source": [
    "data['char_count'] = data['text'].str.len()\n",
    "plt.figure(figsize=(10, 6))\n",
    "plt.hist(data['char_count'], bins=30, color='skyblue', edgecolor='black')\n",
    "plt.title(\"Distribution of Number of Characters in 'text' Column\", fontsize=16)\n",
    "plt.xlabel(\"Number of Characters\", fontsize=12)\n",
    "plt.ylabel(\"Frequency\", fontsize=12)\n",
    "plt.grid(axis='y', linestyle='--', alpha=0.7)\n",
    "plt.tight_layout()\n",
    "plt.show()\n"
   ]
  },
  {
   "cell_type": "code",
   "execution_count": 64,
   "metadata": {
    "colab": {
     "base_uri": "https://localhost:8080/",
     "height": 607
    },
    "id": "Ab0ANnStwBKF",
    "outputId": "cb0b24ef-440f-4b62-e4c3-e8ac2f790729"
   },
   "outputs": [
    {
     "data": {
      "image/png": "[encoded data removed]",
      "text/plain": [
       "<Figure size 1000x600 with 1 Axes>"
      ]
     },
     "metadata": {},
     "output_type": "display_data"
    }
   ],
   "source": [
    "data['word_count'] = data['text'].apply(lambda x: len(word_tokenize(x)))\n",
    "plt.figure(figsize=(10, 6))\n",
    "plt.hist(data['word_count'], bins=30, color='lightcoral', edgecolor='black')\n",
    "plt.title(\"Distribution of Number of Words in 'text' Column\", fontsize=16)\n",
    "plt.xlabel(\"Number of Words\", fontsize=12)\n",
    "plt.ylabel(\"Frequency\", fontsize=12)\n",
    "plt.grid(axis='y', linestyle='--', alpha=0.7)\n",
    "plt.tight_layout()\n",
    "plt.show()"
   ]
  },
  {
   "cell_type": "markdown",
   "metadata": {
    "id": "N0ckITtyc2mC"
   },
   "source": [
    "## Cleaning under-informed entries\n",
    "From the above distributions it is clear that some complaints have less than ideal information in order to classify it, hence the complaints with less than 4 words have been removed."
   ]
  },
  {
   "cell_type": "code",
   "execution_count": 65,
   "metadata": {
    "collapsed": true,
    "id": "95loH9ATwDpn"
   },
   "outputs": [],
   "source": [
    "data = data[data['word_count'] >= 4]\n",
    "stop_words = set(stopwords.words('english'))\n",
    "data['text'] = data['text'].str.lower().apply(lambda x: ' '.join([word for word in word_tokenize(x) if word not in stop_words]))\n",
    "test['text'] = test['text'].str.lower().apply(lambda x: ' '.join([word for word in word_tokenize(x) if word not in stop_words]))"
   ]
  },
  {
   "cell_type": "code",
   "execution_count": 66,
   "metadata": {
    "colab": {
     "base_uri": "https://localhost:8080/"
    },
    "id": "1BKBCowEwIfM",
    "outputId": "c4a48aff-6a5f-4c45-c6e9-1313643ef80e"
   },
   "outputs": [
    {
     "data": {
      "text/plain": [
       "np.int64(26320547)"
      ]
     },
     "execution_count": 66,
     "metadata": {},
     "output_type": "execute_result"
    }
   ],
   "source": [
    "# Removing all instances which are not of type string\n",
    "data = data[data['text'].apply(lambda x: isinstance(x, str))]\n",
    "test = test[test['text'].apply(lambda x: isinstance(x, str))]\n",
    "total_char_count = data['text'].str.len().sum()\n",
    "total_char_count"
   ]
  },
  {
   "cell_type": "markdown",
   "metadata": {
    "id": "_cuZpbTbeB2o"
   },
   "source": [
    "## Text cleaning and normalization\n",
    "Input text is converted to lowercase, punctuation, digits, URLs, and newline characters are removed. The text is tokenized, stopwords (except \"not\") are removed, and the remaining words are lemmatized.\n",
    "\n"
   ]
  },
  {
   "cell_type": "code",
   "execution_count": 67,
   "metadata": {
    "id": "bnpmJl3twSHa"
   },
   "outputs": [],
   "source": [
    "def Text_Cleaning(Text):\n",
    "  Text = Text.lower()\n",
    "  punc = str.maketrans(string.punctuation, ' '*len(string.punctuation))\n",
    "  Text = Text.translate(punc)\n",
    "  Text = re.sub(r'\\d+', '', Text)\n",
    "  Text = re.sub('https?://\\S+|www\\.\\S+', '', Text)\n",
    "  Text = re.sub('\\n', '', Text)\n",
    "  return Text\n",
    "Stopwords = set(nltk.corpus.stopwords.words(\"english\")) - set([\"not\"])\n",
    "\n",
    "def Text_Processing(Text):\n",
    "    Processed_Text = list()\n",
    "    Lemmatizer = WordNetLemmatizer()\n",
    "    Tokens = nltk.word_tokenize(Text)\n",
    "\n",
    "    for word in Tokens:\n",
    "        if word not in Stopwords:\n",
    "            Processed_Text.append(Lemmatizer.lemmatize(word))\n",
    "\n",
    "    return \" \".join(Processed_Text)"
   ]
  },
  {
   "cell_type": "code",
   "execution_count": 68,
   "metadata": {
    "id": "TIHy2JXMwWsV"
   },
   "outputs": [],
   "source": [
    "data[\"text\"] = data[\"text\"].apply(lambda Text: Text_Cleaning(Text))\n",
    "test[\"text\"] = test[\"text\"].apply(lambda Text: Text_Cleaning(Text))\n",
    "data[\"text\"] = data[\"text\"].apply(lambda Text: Text_Processing(Text))\n",
    "test[\"text\"] = test[\"text\"].apply(lambda Text: Text_Processing(Text))"
   ]
  },
  {
   "cell_type": "code",
   "execution_count": 69,
   "metadata": {
    "colab": {
     "base_uri": "https://localhost:8080/"
    },
    "id": "jaecT-GTwaA_",
    "outputId": "97e04b7a-2818-48ce-c08f-a4f748e4e00e"
   },
   "outputs": [
    {
     "data": {
      "text/plain": [
       "np.int64(25920201)"
      ]
     },
     "execution_count": 69,
     "metadata": {},
     "output_type": "execute_result"
    }
   ],
   "source": [
    "total_char_count = data['text'].str.len().sum()\n",
    "total_char_count"
   ]
  },
  {
   "cell_type": "markdown",
   "metadata": {
    "id": "5wiY45vlfTMQ"
   },
   "source": [
    "## For further processing stemming is applied to normalize the lemmatized text"
   ]
  },
  {
   "cell_type": "code",
   "execution_count": 70,
   "metadata": {
    "id": "0IRFeNwswcVh"
   },
   "outputs": [],
   "source": [
    "stemmer = PorterStemmer()\n",
    "data['text'] = data['text'].apply(lambda x: ' '.join([stemmer.stem(word) for word in nltk.word_tokenize(x)]))\n",
    "test['text'] = test['text'].apply(lambda x: ' '.join([stemmer.stem(word) for word in nltk.word_tokenize(x)]))"
   ]
  },
  {
   "cell_type": "code",
   "execution_count": 71,
   "metadata": {
    "id": "skr24h8ew0qL"
   },
   "outputs": [],
   "source": [
    "data.to_csv('stemmed_train.csv', index=False)\n",
    "test.to_csv('stemmed_test.csv', index=False)"
   ]
  },
  {
   "cell_type": "markdown",
   "metadata": {},
   "source": [
    "## Load pre-processed dataset"
   ]
  },
  {
   "cell_type": "code",
   "execution_count": 72,
   "metadata": {
    "id": "MTyrHB2rbJqW"
   },
   "outputs": [],
   "source": [
    "data=pd.read_csv(\"stemmed_train.csv\")\n",
    "test= pd.read_csv(\"stemmed_test.csv\")\n",
    "data = data[data['text'].apply(lambda x: isinstance(x, str))]\n",
    "test = test[test['text'].apply(lambda x: isinstance(x, str))]"
   ]
  },
  {
   "cell_type": "markdown",
   "metadata": {
    "id": "OJPmRkCqEv75"
   },
   "source": [
    "## Creating label encoder and decoder"
   ]
  },
  {
   "cell_type": "code",
   "execution_count": 73,
   "metadata": {
    "colab": {
     "base_uri": "https://localhost:8080/"
    },
    "id": "zlRAu8hgEu61",
    "outputId": "805cc12d-7427-4eee-eddc-2359e49a4556"
   },
   "outputs": [
    {
     "name": "stdout",
     "output_type": "stream",
     "text": [
      "Cryptocurrency Fraud\n"
     ]
    }
   ],
   "source": [
    "le = LabelEncoder()\n",
    "y = le.fit_transform(data['sub_category'])\n",
    "\n",
    "def decode_sub_category(encoded_value):\n",
    "    return le.inverse_transform([encoded_value])[0]\n",
    "print(decode_sub_category(4))"
   ]
  },
  {
   "cell_type": "code",
   "execution_count": 74,
   "metadata": {
    "colab": {
     "base_uri": "https://localhost:8080/"
    },
    "id": "fzxRhJraMDQr",
    "outputId": "fefe2e01-3bdb-459c-dff7-9a6b11acdb63"
   },
   "outputs": [
    {
     "data": {
      "text/plain": [
       "np.int64(39)"
      ]
     },
     "execution_count": 74,
     "metadata": {},
     "output_type": "execute_result"
    }
   ],
   "source": [
    "N_CLASS=y.max()+1 # number of sub_categories present in data\n",
    "N_CLASS"
   ]
  },
  {
   "cell_type": "markdown",
   "metadata": {
    "id": "FS-7dzf1fg8J"
   },
   "source": [
    "# Word embedding\n",
    "\n",
    "Bag of Words and TFIDF(Term Frequency-Inverse Document Frequency) has been applied"
   ]
  },
  {
   "cell_type": "code",
   "execution_count": 81,
   "metadata": {
    "colab": {
     "base_uri": "https://localhost:8080/"
    },
    "id": "R-jZ3gdMFnK6",
    "outputId": "5888ce70-5027-43ef-ed48-3528ed55d404"
   },
   "outputs": [],
   "source": [
    "from sklearn.feature_extraction.text import TfidfVectorizer, CountVectorizer\n",
    "import joblib\n",
    "tfidf_vectorizer = TfidfVectorizer(max_features=5000, ngram_range=(2, 2))\n",
    "bow_vectorizer = CountVectorizer(max_features=5000, ngram_range=(2, 2))\n",
    "#Creating tfidf vectors for train and test data\n",
    "\n",
    "tfidf_data = tfidf_vectorizer.fit_transform(data['text'])\n",
    "bow_data = bow_vectorizer.fit_transform(data['text'])\n",
    "\n",
    "tfidf_test = tfidf_vectorizer.transform(test['text'])\n",
    "bow_test = bow_vectorizer.transform(test['text'])\n",
    "\n",
    "#joblib.dump(tfidf_data, 'tfidf_data_embeddings.pkl')\n",
    "#joblib.dump(bow_data, 'bow_data_embeddings.pkl')\n",
    "#joblib.dump(tfidf_test, 'tfidf_test_embeddings.pkl')\n",
    "#joblib.dump(bow_test, 'bow_test_embeddings.pkl')"
   ]
  },
  {
   "cell_type": "code",
   "execution_count": 99,
   "metadata": {},
   "outputs": [
    {
     "data": {
      "text/html": [
       "<div>\n",
       "<style scoped>\n",
       "    .dataframe tbody tr th:only-of-type {\n",
       "        vertical-align: middle;\n",
       "    }\n",
       "\n",
       "    .dataframe tbody tr th {\n",
       "        vertical-align: top;\n",
       "    }\n",
       "\n",
       "    .dataframe thead th {\n",
       "        text-align: right;\n",
       "    }\n",
       "</style>\n",
       "<table border=\"1\" class=\"dataframe\">\n",
       "  <thead>\n",
       "    <tr style=\"text-align: right;\">\n",
       "      <th></th>\n",
       "      <th>category</th>\n",
       "      <th>sub_category</th>\n",
       "      <th>text</th>\n",
       "      <th>char_count</th>\n",
       "      <th>word_count</th>\n",
       "    </tr>\n",
       "  </thead>\n",
       "  <tbody>\n",
       "    <tr>\n",
       "      <th>0</th>\n",
       "      <td>Online and Social Media Related Crime</td>\n",
       "      <td>Cyber Bullying  Stalking  Sexting</td>\n",
       "      <td>continu receiv random call abus messag whatsap...</td>\n",
       "      <td>258</td>\n",
       "      <td>46</td>\n",
       "    </tr>\n",
       "    <tr>\n",
       "      <th>1</th>\n",
       "      <td>Online Financial Fraud</td>\n",
       "      <td>Fraud CallVishing</td>\n",
       "      <td>fraudster continu messag ask pay money send fa...</td>\n",
       "      <td>247</td>\n",
       "      <td>45</td>\n",
       "    </tr>\n",
       "    <tr>\n",
       "      <th>2</th>\n",
       "      <td>Online Gambling  Betting</td>\n",
       "      <td>Online Gambling  Betting</td>\n",
       "      <td>act like polic demand money ad section text me...</td>\n",
       "      <td>229</td>\n",
       "      <td>40</td>\n",
       "    </tr>\n",
       "    <tr>\n",
       "      <th>3</th>\n",
       "      <td>Online and Social Media Related Crime</td>\n",
       "      <td>Online Job Fraud</td>\n",
       "      <td>apna job appli job interview telecal resourc m...</td>\n",
       "      <td>538</td>\n",
       "      <td>98</td>\n",
       "    </tr>\n",
       "    <tr>\n",
       "      <th>4</th>\n",
       "      <td>Online Financial Fraud</td>\n",
       "      <td>Fraud CallVishing</td>\n",
       "      <td>receiv call ladi state send new phone vivo rec...</td>\n",
       "      <td>194</td>\n",
       "      <td>37</td>\n",
       "    </tr>\n",
       "    <tr>\n",
       "      <th>...</th>\n",
       "      <td>...</td>\n",
       "      <td>...</td>\n",
       "      <td>...</td>\n",
       "      <td>...</td>\n",
       "      <td>...</td>\n",
       "    </tr>\n",
       "    <tr>\n",
       "      <th>87604</th>\n",
       "      <td>Online Financial Fraud</td>\n",
       "      <td>Internet Banking Related Fraud</td>\n",
       "      <td>ident theft smish sm fraud creditdebit card fr...</td>\n",
       "      <td>274</td>\n",
       "      <td>42</td>\n",
       "    </tr>\n",
       "    <tr>\n",
       "      <th>87605</th>\n",
       "      <td>Online Financial Fraud</td>\n",
       "      <td>EWallet Related Fraud</td>\n",
       "      <td>receiv call number ask phone pay cash back off...</td>\n",
       "      <td>195</td>\n",
       "      <td>34</td>\n",
       "    </tr>\n",
       "    <tr>\n",
       "      <th>87606</th>\n",
       "      <td>Online Financial Fraud</td>\n",
       "      <td>UPI Related Frauds</td>\n",
       "      <td>cyber stalk blackmail phonesmsvoip call victim...</td>\n",
       "      <td>212</td>\n",
       "      <td>33</td>\n",
       "    </tr>\n",
       "    <tr>\n",
       "      <th>87607</th>\n",
       "      <td>Online and Social Media Related Crime</td>\n",
       "      <td>Online Matrimonial Fraud</td>\n",
       "      <td>call kark bola ki aapka lotari laga ha aru ac ...</td>\n",
       "      <td>231</td>\n",
       "      <td>48</td>\n",
       "    </tr>\n",
       "    <tr>\n",
       "      <th>87608</th>\n",
       "      <td>Online Financial Fraud</td>\n",
       "      <td>Fraud CallVishing</td>\n",
       "      <td>app name koko loan app send money account unkn...</td>\n",
       "      <td>253</td>\n",
       "      <td>50</td>\n",
       "    </tr>\n",
       "  </tbody>\n",
       "</table>\n",
       "<p>87608 rows × 5 columns</p>\n",
       "</div>"
      ],
      "text/plain": [
       "                                    category  \\\n",
       "0      Online and Social Media Related Crime   \n",
       "1                     Online Financial Fraud   \n",
       "2                   Online Gambling  Betting   \n",
       "3      Online and Social Media Related Crime   \n",
       "4                     Online Financial Fraud   \n",
       "...                                      ...   \n",
       "87604                 Online Financial Fraud   \n",
       "87605                 Online Financial Fraud   \n",
       "87606                 Online Financial Fraud   \n",
       "87607  Online and Social Media Related Crime   \n",
       "87608                 Online Financial Fraud   \n",
       "\n",
       "                            sub_category  \\\n",
       "0      Cyber Bullying  Stalking  Sexting   \n",
       "1                      Fraud CallVishing   \n",
       "2               Online Gambling  Betting   \n",
       "3                       Online Job Fraud   \n",
       "4                      Fraud CallVishing   \n",
       "...                                  ...   \n",
       "87604     Internet Banking Related Fraud   \n",
       "87605              EWallet Related Fraud   \n",
       "87606                 UPI Related Frauds   \n",
       "87607           Online Matrimonial Fraud   \n",
       "87608                  Fraud CallVishing   \n",
       "\n",
       "                                                    text  char_count  \\\n",
       "0      continu receiv random call abus messag whatsap...         258   \n",
       "1      fraudster continu messag ask pay money send fa...         247   \n",
       "2      act like polic demand money ad section text me...         229   \n",
       "3      apna job appli job interview telecal resourc m...         538   \n",
       "4      receiv call ladi state send new phone vivo rec...         194   \n",
       "...                                                  ...         ...   \n",
       "87604  ident theft smish sm fraud creditdebit card fr...         274   \n",
       "87605  receiv call number ask phone pay cash back off...         195   \n",
       "87606  cyber stalk blackmail phonesmsvoip call victim...         212   \n",
       "87607  call kark bola ki aapka lotari laga ha aru ac ...         231   \n",
       "87608  app name koko loan app send money account unkn...         253   \n",
       "\n",
       "       word_count  \n",
       "0              46  \n",
       "1              45  \n",
       "2              40  \n",
       "3              98  \n",
       "4              37  \n",
       "...           ...  \n",
       "87604          42  \n",
       "87605          34  \n",
       "87606          33  \n",
       "87607          48  \n",
       "87608          50  \n",
       "\n",
       "[87608 rows x 5 columns]"
      ]
     },
     "execution_count": 99,
     "metadata": {},
     "output_type": "execute_result"
    }
   ],
   "source": [
    "data"
   ]
  },
  {
   "cell_type": "markdown",
   "metadata": {
    "id": "VuTmlyjVKr5x"
   },
   "source": [
    "## Model Creation and evaluation"
   ]
  },
  {
   "cell_type": "markdown",
   "metadata": {
    "id": "-XeWl4e4ti5x"
   },
   "source": [
    "### Due to the loss of semantic information in vectorization techniques such as TFIDF or Bag of Words, common ML models are used to classify the data"
   ]
  },
  {
   "cell_type": "code",
   "execution_count": 110,
   "metadata": {
    "id": "DJAeDP_NIAhJ"
   },
   "outputs": [],
   "source": [
    "from sklearn.naive_bayes import MultinomialNB\n",
    "from sklearn.svm import SVC\n",
    "from xgboost import XGBClassifier\n",
    "from sklearn.ensemble import RandomForestClassifier"
   ]
  },
  {
   "cell_type": "code",
   "execution_count": 111,
   "metadata": {},
   "outputs": [],
   "source": [
    "# import pickle\n",
    "\n",
    "\n",
    "# with open('tfidf_data_embeddings.pkl', 'rb') as f:\n",
    "#     tfidf_data = pickle.load(f)\n",
    "# with open('bow_data_embeddings.pkl', 'rb') as f:\n",
    "#     bow_data = pickle.load(f)\n",
    "# with open('tfidf_test_embeddings.pkl', 'rb') as f:\n",
    "#     tfidf_test = pickle.load(f)\n",
    "# with open('bow_test_embeddings.pkl', 'rb') as f:\n",
    "#     tfidf_test = pickle.load(f)\n"
   ]
  },
  {
   "cell_type": "markdown",
   "metadata": {
    "id": "NKzr9dAbt-Et"
   },
   "source": [
    "Multinomial Naive Bayes classifier"
   ]
  },
  {
   "cell_type": "code",
   "execution_count": 112,
   "metadata": {
    "id": "pEUBlKkAGniS"
   },
   "outputs": [],
   "source": [
    "nb_tfidf = MultinomialNB().fit(tfidf_data, y)\n",
    "nb_bow = MultinomialNB().fit(bow_data, y)"
   ]
  },
  {
   "cell_type": "code",
   "execution_count": 113,
   "metadata": {
    "id": "7O4tMlPYIQ0K"
   },
   "outputs": [],
   "source": [
    "nb_tfidf_predictions = nb_tfidf.predict(tfidf_test)\n",
    "nb_bow_predictions = nb_bow.predict(bow_test)"
   ]
  },
  {
   "cell_type": "markdown",
   "metadata": {
    "id": "MRDt5mXxt7aR"
   },
   "source": [
    "Random Forest classifier"
   ]
  },
  {
   "cell_type": "code",
   "execution_count": null,
   "metadata": {
    "id": "ueHVoOZbM6b2"
   },
   "outputs": [],
   "source": [
    "rf_tfidf = RandomForestClassifier().fit(tfidf_data, y)\n",
    "rf_bow = RandomForestClassifier().fit(bow_data, y)"
   ]
  },
  {
   "cell_type": "code",
   "execution_count": null,
   "metadata": {
    "id": "V9whROK-N0By"
   },
   "outputs": [],
   "source": [
    "rf_tfidf_predictions = rf_tfidf.predict(tfidf_test)\n",
    "rf_bow_predictions = rf_bow.predict(bow_test)"
   ]
  },
  {
   "cell_type": "markdown",
   "metadata": {
    "id": "ckU6QbIxKzZS"
   },
   "source": [
    "### Function for evaluating model performance\n",
    "The model performance is evaluated on basis of subcategory and category classification in the following way:\n",
    "\n",
    "\n",
    "1.   Decode the predicted labels to find predicted subcategories\n",
    "2.   Evaluate by comparing to subcategory entries in test dataset\n",
    "3.   Map the predicted subcategory to its original category\n",
    "4.   Evaluate by comparing to category entries in test dataset\n",
    "\n",
    "\n",
    "\n"
   ]
  },
  {
   "cell_type": "code",
   "execution_count": null,
   "metadata": {
    "id": "CHH_yfbbJAMg"
   },
   "outputs": [],
   "source": [
    "def evaluate_predictions(label_encoded_predictions, test_data, sub_to_category_map):\n",
    "    decoded_sub_categories = [decode_sub_category(pred) for pred in label_encoded_predictions]\n",
    "\n",
    "    sub_category_matches = [pred == actual for pred, actual in zip(decoded_sub_categories, test_data['sub_category'])]\n",
    "    sub_category_accuracy = sum(sub_category_matches) / len(sub_category_matches)\n",
    "\n",
    "    predicted_categories = [sub_to_category_map[sub] for sub in decoded_sub_categories] # Retrieve category from mapping\n",
    "    category_matches = [pred == actual for pred, actual in zip(predicted_categories, test_data['category'])]\n",
    "    category_accuracy = sum(category_matches) / len(category_matches)\n",
    "\n",
    "    return sub_category_accuracy, category_accuracy"
   ]
  },
  {
   "cell_type": "code",
   "execution_count": null,
   "metadata": {
    "colab": {
     "base_uri": "https://localhost:8080/"
    },
    "id": "juvzZhZkMNev",
    "outputId": "4401614b-967f-4550-e2bf-f5c761b59aa6"
   },
   "outputs": [
    {
     "name": "stdout",
     "output_type": "stream",
     "text": [
      "NB TF-IDF - Subcategory Accuracy: 0.4605980023349332\n",
      "NB TF-IDF - Category Accuracy: 0.6917563886366584\n",
      "NB BOW - Subcategory Accuracy: 0.41675314567388766\n",
      "NB BOW - Category Accuracy: 0.6846218705409262\n"
     ]
    }
   ],
   "source": [
    "nb_tfidf_subcat_acc, nb_tfidf_cat_acc = evaluate_predictions(nb_tfidf_predictions, test, mapping)\n",
    "nb_bow_subcat_acc, nb_bow_cat_acc = evaluate_predictions(nb_bow_predictions, test, mapping)\n",
    "print(\"NB TF-IDF - Subcategory Accuracy:\", nb_tfidf_subcat_acc)\n",
    "print(\"NB TF-IDF - Category Accuracy:\", nb_tfidf_cat_acc)\n",
    "print(\"NB BOW - Subcategory Accuracy:\", nb_bow_subcat_acc)\n",
    "print(\"NB BOW - Category Accuracy:\", nb_bow_cat_acc)"
   ]
  },
  {
   "cell_type": "code",
   "execution_count": null,
   "metadata": {
    "colab": {
     "base_uri": "https://localhost:8080/"
    },
    "id": "Xx5SZgXzN1Rk",
    "outputId": "5d7b019b-98cd-4592-ff7a-be267217acec"
   },
   "outputs": [
    {
     "name": "stdout",
     "output_type": "stream",
     "text": [
      "RF TF-IDF - Subcategory Accuracy: 0.4878388896095473\n",
      "RF TF-IDF - Category Accuracy: 0.7243805941107796\n",
      "RF BOW - Subcategory Accuracy: 0.4799909197042418\n",
      "RF BOW - Category Accuracy: 0.7192891425606434\n"
     ]
    }
   ],
   "source": [
    "rf_tfidf_subcat_acc, rf_tfidf_cat_acc = evaluate_predictions(rf_tfidf_predictions, test, mapping)\n",
    "rf_bow_subcat_acc, rf_bow_cat_acc = evaluate_predictions(rf_bow_predictions, test, mapping)\n",
    "\n",
    "print(\"RF TF-IDF - Subcategory Accuracy:\", rf_tfidf_subcat_acc)\n",
    "print(\"RF TF-IDF - Category Accuracy:\", rf_tfidf_cat_acc)\n",
    "print(\"RF BOW - Subcategory Accuracy:\", rf_bow_subcat_acc)\n",
    "print(\"RF BOW - Category Accuracy:\", rf_bow_cat_acc)"
   ]
  },
  {
   "cell_type": "markdown",
   "metadata": {
    "id": "sA8Frm2YuG0i"
   },
   "source": [
    "## Polynomial Support Vector Machine"
   ]
  },
  {
   "cell_type": "code",
   "execution_count": null,
   "metadata": {
    "id": "kzEDF6hMRs2m"
   },
   "outputs": [],
   "source": [
    "# SVC Polynomial Kernel\n",
    "svc_poly = SVC(kernel='poly', probability=True)\n",
    "svc_poly.fit(tfidf_data, y)\n",
    "svc_poly_tfidf_predictions = svc_poly.predict(tfidf_test)\n",
    "\n",
    "svc_poly.fit(bow_data, y)\n",
    "svc_poly_bow_predictions = svc_poly.predict(bow_test)\n",
    "\n",
    "svc_poly_tfidf_subcat_acc, svc_poly_tfidf_cat_acc = evaluate_predictions(svc_poly_tfidf_predictions, test, mapping)\n",
    "svc_poly_bow_subcat_acc, svc_poly_bow_cat_acc = evaluate_predictions(svc_poly_bow_predictions, test, mapping)\n",
    "\n",
    "print(\"SVC Polynomial TF-IDF - Subcategory Accuracy:\", svc_poly_tfidf_subcat_acc)\n",
    "print(\"SVC Polynomial TF-IDF - Category Accuracy:\", svc_poly_tfidf_cat_acc)\n",
    "print(\"SVC Polynomial BOW - Subcategory Accuracy:\", svc_poly_bow_subcat_acc)\n",
    "print(\"SVC Polynomial BOW - Category Accuracy:\", svc_poly_bow_cat_acc)\n"
   ]
  },
  {
   "cell_type": "markdown",
   "metadata": {
    "id": "vnSTaoIAuMw9"
   },
   "source": [
    "## Radial Basis function kernel SVM"
   ]
  },
  {
   "cell_type": "code",
   "execution_count": null,
   "metadata": {
    "id": "E9l0EDBxS-Nt"
   },
   "outputs": [],
   "source": [
    "# SVC RBF Kernel\n",
    "svc_rbf = SVC(kernel='rbf', probability=True)\n",
    "svc_rbf.fit(tfidf_data, y)\n",
    "svc_rbf_tfidf_predictions = svc_rbf.predict(tfidf_test)\n",
    "\n",
    "svc_rbf.fit(bow_data, y)\n",
    "svc_rbf_bow_predictions = svc_rbf.predict(bow_test)\n",
    "\n",
    "svc_rbf_tfidf_subcat_acc, svc_rbf_tfidf_cat_acc = evaluate_predictions(svc_rbf_tfidf_predictions, test, mapping)\n",
    "svc_rbf_bow_subcat_acc, svc_rbf_bow_cat_acc = evaluate_predictions(svc_rbf_bow_predictions, test, mapping)\n",
    "\n",
    "print(\"SVC RBF TF-IDF - Subcategory Accuracy:\", svc_rbf_tfidf_subcat_acc)\n",
    "print(\"SVC RBF TF-IDF - Category Accuracy:\", svc_rbf_tfidf_cat_acc)\n",
    "print(\"SVC RBF BOW - Subcategory Accuracy:\", svc_rbf_bow_subcat_acc)\n",
    "print(\"SVC RBF BOW - Category Accuracy:\", svc_rbf_bow_cat_acc)\n"
   ]
  },
  {
   "cell_type": "markdown",
   "metadata": {
    "id": "ure2TBDsuQs6"
   },
   "source": [
    "## Gradient Boosting classifier"
   ]
  },
  {
   "cell_type": "code",
   "execution_count": 84,
   "metadata": {
    "id": "nawFRp54TBAW"
   },
   "outputs": [
    {
     "name": "stderr",
     "output_type": "stream",
     "text": [
      "/home/ec.gpu/miniconda3/envs/nlp_indiaAI/lib/python3.10/site-packages/xgboost/core.py:158: UserWarning: [22:35:48] WARNING: /workspace/src/common/error_msg.cc:58: Falling back to prediction using DMatrix due to mismatched devices. This might lead to higher memory usage and slower performance. XGBoost is running on: cuda:0, while the input data is on: cpu.\n",
      "Potential solutions:\n",
      "- Use a data structure that matches the device ordinal in the booster.\n",
      "- Set the device for booster before call to inplace_predict.\n",
      "\n",
      "This warning will only be shown once.\n",
      "\n",
      "  warnings.warn(smsg, UserWarning)\n"
     ]
    },
    {
     "name": "stdout",
     "output_type": "stream",
     "text": [
      "XGBoost TF-IDF - Subcategory Accuracy: 0.043455701128551044\n",
      "XGBoost TF-IDF - Category Accuracy: 0.13182643663250745\n",
      "XGBoost BOW - Subcategory Accuracy: 0.043715138150214036\n",
      "XGBoost BOW - Category Accuracy: 0.13241016993124918\n"
     ]
    }
   ],
   "source": [
    "# XGBoost\n",
    "xgb_model = XGBClassifier(device=\"cuda\")\n",
    "xgb_model.fit(tfidf_data, y)\n",
    "xgb_tfidf_predictions = xgb_model.predict(tfidf_test)\n",
    "\n",
    "xgb_model.fit(bow_data, y)\n",
    "xgb_bow_predictions = xgb_model.predict(bow_test)\n",
    "\n",
    "xgb_tfidf_subcat_acc, xgb_tfidf_cat_acc = evaluate_predictions(xgb_tfidf_predictions, test, mapping)\n",
    "xgb_bow_subcat_acc, xgb_bow_cat_acc = evaluate_predictions(xgb_bow_predictions, test, mapping)\n",
    "\n",
    "print(\"XGBoost TF-IDF - Subcategory Accuracy:\", xgb_tfidf_subcat_acc)\n",
    "print(\"XGBoost TF-IDF - Category Accuracy:\", xgb_tfidf_cat_acc)\n",
    "print(\"XGBoost BOW - Subcategory Accuracy:\", xgb_bow_subcat_acc)\n",
    "print(\"XGBoost BOW - Category Accuracy:\", xgb_bow_cat_acc)\n"
   ]
  },
  {
   "cell_type": "markdown",
   "metadata": {
    "id": "dT7HnN64uUi-"
   },
   "source": [
    "# Overall classification metrics"
   ]
  },
  {
   "cell_type": "code",
   "execution_count": 91,
   "metadata": {
    "colab": {
     "base_uri": "https://localhost:8080/"
    },
    "id": "wdxmc9rH1Boh",
    "outputId": "fd0f5544-8d24-49d1-87bd-9414106bb2ef"
   },
   "outputs": [],
   "source": [
    "import warnings\n",
    "from sklearn.metrics import accuracy_score\n",
    "from sklearn.metrics import confusion_matrix, precision_score, recall_score, f1_score\n",
    "from sklearn.metrics import classification_report\n",
    "warnings.filterwarnings(\"ignore\", category=UserWarning)\n",
    "le = LabelEncoder()\n",
    "y = le.fit_transform(data['sub_category'])\n",
    "\n",
    "def decode_sub_category(encoded_value):\n",
    "    return le.inverse_transform([encoded_value])[0]\n",
    "def classification_metrics(label_encoded_predictions, test_data, sub_to_category_map):\n",
    "    decoded_sub_categories = [decode_sub_category(pred) for pred in label_encoded_predictions]\n",
    "    combined_sub_labels = np.concatenate((decoded_sub_categories, test_data['sub_category']))\n",
    "    le_sub_combined = LabelEncoder().fit(combined_sub_labels) # New encoder for the extra classes in test data\n",
    "\n",
    "    encoded_decoded_sub_categories = le_sub_combined.transform(decoded_sub_categories)\n",
    "    encoded_test_sub_categories = le_sub_combined.transform(test_data['sub_category'])\n",
    "\n",
    "    sub_category_accuracy = accuracy_score(encoded_test_sub_categories, encoded_decoded_sub_categories)\n",
    "    sub_category_f1 = f1_score(encoded_test_sub_categories, encoded_decoded_sub_categories, average='weighted', zero_division=0)\n",
    "    sub_category_precision = precision_score(encoded_test_sub_categories, encoded_decoded_sub_categories, average='weighted', zero_division=0)\n",
    "    sub_category_recall = recall_score(encoded_test_sub_categories, encoded_decoded_sub_categories, average='weighted', zero_division=0)\n",
    "\n",
    "    print(\"Subcategory Metrics:\")\n",
    "    print(f\"Accuracy: {sub_category_accuracy}\")\n",
    "    print(f\"F1 Score: {sub_category_f1}\")\n",
    "    print(f\"Precision: {sub_category_precision}\")\n",
    "    print(f\"Recall: {sub_category_recall}\")\n",
    "\n",
    "    predicted_categories = [sub_to_category_map[sub] for sub in decoded_sub_categories]\n",
    "    combined_cat_labels = np.concatenate((predicted_categories, test_data['category']))\n",
    "    le_cat_combined = LabelEncoder().fit(combined_cat_labels)\n",
    "\n",
    "    encoded_predicted_categories = le_cat_combined.transform(predicted_categories)\n",
    "    encoded_test_categories = le_cat_combined.transform(test_data['category'])\n",
    "\n",
    "    category_accuracy = accuracy_score(encoded_test_categories, encoded_predicted_categories)\n",
    "    category_f1 = f1_score(encoded_test_categories, encoded_predicted_categories, average='weighted', zero_division=0)\n",
    "    category_precision = precision_score(encoded_test_categories, encoded_predicted_categories, average='weighted', zero_division=0)\n",
    "    category_recall = recall_score(encoded_test_categories, encoded_predicted_categories, average='weighted', zero_division=0)\n",
    "\n",
    "    print(\"\\nCategory Metrics:\")\n",
    "    print(f\"Accuracy: {category_accuracy}\")\n",
    "    print(f\"F1 Score: {category_f1}\")\n",
    "    print(f\"Precision: {category_precision}\")\n",
    "    print(f\"Recall: {category_recall}\")\n",
    "\n",
    "\n",
    "\n"
   ]
  },
  {
   "cell_type": "code",
   "execution_count": null,
   "metadata": {
    "id": "nD0KjFo2--CA"
   },
   "outputs": [],
   "source": [
    "\n",
    "\n",
    "print('Naive Bayes tfidf metrics')\n",
    "classification_metrics(nb_tfidf_predictions, test, mapping)\n",
    "\n",
    "print('\\nNaive Bayes BoW metrics')\n",
    "classification_metrics(nb_bow_predictions, test, mapping)\n",
    "\n",
    "print('\\nRandom Forest tfidf metrics')\n",
    "classification_metrics(rf_tfidf_predictions, test, mapping)\n",
    "\n",
    "print('\\nRandom Forest BoW metrics')\n",
    "classification_metrics(rf_bow_predictions, test, mapping)\n",
    "\n",
    "print('\\nSVC Polynomial tfidf metrics')\n",
    "classification_metrics(svc_poly_tfidf_predictions, test, mapping)\n",
    "\n",
    "print('\\nSVC Polynomial BoW metrics')\n",
    "classification_metrics(svc_poly_bow_predictions, test, mapping)\n",
    "\n",
    "print('\\nSVC RBF tfidf metrics')\n",
    "classification_metrics(svc_rbf_tfidf_predictions, test, mapping)\n",
    "\n",
    "print('\\nSVC RBF BoW metrics')\n",
    "classification_metrics(svc_rbf_bow_predictions, test, mapping)\n",
    "\n",
    "print('\\nXGBoost tfidf metrics')\n",
    "classification_metrics(xgb_tfidf_predictions, test, mapping)\n",
    "\n",
    "print('\\nXGBoost BoW metrics')\n",
    "classification_metrics(xgb_bow_predictions, test, mapping)"
   ]
  },
  {
   "cell_type": "code",
   "execution_count": 92,
   "metadata": {},
   "outputs": [
    {
     "name": "stdout",
     "output_type": "stream",
     "text": [
      "\n",
      "XGBoost tfidf metrics\n",
      "Subcategory Metrics:\n",
      "Accuracy: 0.043455701128551044\n",
      "F1 Score: 0.003619507677291049\n",
      "Precision: 0.0018883979605739524\n",
      "Recall: 0.043455701128551044\n",
      "\n",
      "Category Metrics:\n",
      "Accuracy: 0.13182643663250745\n",
      "F1 Score: 0.03070825849752975\n",
      "Precision: 0.017378209395224505\n",
      "Recall: 0.13182643663250745\n",
      "\n",
      "XGBoost BoW metrics\n",
      "Subcategory Metrics:\n",
      "Accuracy: 0.043715138150214036\n",
      "F1 Score: 0.004945154684446436\n",
      "Precision: 0.09506838830746173\n",
      "Recall: 0.043715138150214036\n",
      "\n",
      "Category Metrics:\n",
      "Accuracy: 0.13241016993124918\n",
      "F1 Score: 0.033194080346415175\n",
      "Precision: 0.3896788584344145\n",
      "Recall: 0.13241016993124918\n"
     ]
    }
   ],
   "source": [
    "print('\\nXGBoost tfidf metrics')\n",
    "classification_metrics(xgb_tfidf_predictions, test, mapping)\n",
    "\n",
    "print('\\nXGBoost BoW metrics')\n",
    "classification_metrics(xgb_bow_predictions, test, mapping)"
   ]
  },
  {
   "cell_type": "markdown",
   "metadata": {},
   "source": [
    "## LSTM model"
   ]
  },
  {
   "cell_type": "code",
   "execution_count": null,
   "metadata": {},
   "outputs": [],
   "source": [
    "import pandas as pd\n",
    "import numpy as np\n",
    "from sklearn.model_selection import train_test_split\n",
    "from sklearn.preprocessing import LabelEncoder\n",
    "from tensorflow.keras.preprocessing.text import Tokenizer\n",
    "from tensorflow.keras.preprocessing.sequence import pad_sequences\n",
    "from tensorflow.keras.models import Sequential\n",
    "from tensorflow.keras.layers import Embedding, LSTM, Dense, Dropout\n",
    "from tensorflow.keras.callbacks import EarlyStopping\n",
    "from gensim.models import Word2Vec\n",
    "\n",
    "\n",
    "# Step 1: Tokenize and prepare the text data\n",
    "tokenizer = Tokenizer()\n",
    "tokenizer.fit_on_texts(data['text'])\n",
    "sequences = tokenizer.texts_to_sequences(data['text'])\n",
    "\n",
    "# Pad sequences to ensure uniform input size\n",
    "X = pad_sequences(sequences, padding='post')\n",
    "\n",
    "# Step 2: Convert categories to labels\n",
    "label_encoder = LabelEncoder()\n",
    "y = label_encoder.fit_transform(data['category'])\n",
    "\n",
    "# Step 3: Train a Word2Vec model on the text data\n",
    "# Tokenize and create a list of words\n",
    "texts = [text.split() for text in data['text']]\n",
    "w2v_model = Word2Vec(sentences=texts, vector_size=100, window=5, min_count=1, workers=4)\n",
    "\n",
    "# Get Word2Vec embeddings for the words in the tokenizer\n",
    "embedding_dim = 100\n",
    "embedding_matrix = np.zeros((len(tokenizer.word_index) + 1, embedding_dim))\n",
    "\n",
    "for word, i in tokenizer.word_index.items():\n",
    "    if word in w2v_model.wv:\n",
    "        embedding_matrix[i] = w2v_model.wv[word]\n",
    "\n",
    "# Step 4: Split the data into training and testing sets\n",
    "X_train, X_test, y_train, y_test = train_test_split(X, y, test_size=0.2, random_state=42)\n",
    "\n",
    "# Step 5: Build the LSTM Model\n",
    "model = Sequential()\n",
    "model.add(Embedding(input_dim=len(tokenizer.word_index) + 1, output_dim=embedding_dim, weights=[embedding_matrix], input_length=X.shape[1], trainable=False))\n",
    "model.add(LSTM(units=128, dropout=0.2, recurrent_dropout=0.2))\n",
    "model.add(Dense(64, activation='relu'))\n",
    "model.add(Dropout(0.5))\n",
    "model.add(Dense(len(label_encoder.classes_), activation='softmax'))\n",
    "\n",
    "# Step 6: Compile the model\n",
    "model.compile(loss='sparse_categorical_crossentropy', optimizer='adam', metrics=['accuracy'])\n",
    "\n",
    "# Step 7: Train the model with early stopping\n",
    "early_stopping = EarlyStopping(monitor='val_loss', patience=3, restore_best_weights=True)\n",
    "history = model.fit(X_train, y_train, epochs=10, batch_size=32, validation_data=(X_test, y_test), callbacks=[early_stopping])\n",
    "\n",
    "# Step 8: Evaluate the model\n",
    "loss, accuracy = model.evaluate(X_test, y_test)\n",
    "print(f'Test Accuracy: {accuracy * 100:.2f}%')\n"
   ]
  },
  {
   "cell_type": "markdown",
   "metadata": {},
   "source": [
    "## Importing necessary DistilBERT libraries"
   ]
  },
  {
   "cell_type": "code",
   "execution_count": null,
   "metadata": {},
   "outputs": [
    {
     "name": "stderr",
     "output_type": "stream",
     "text": [
      "/home/ec.gpu/miniconda3/envs/nlp_indiaAI/lib/python3.10/site-packages/tqdm/auto.py:21: TqdmWarning: IProgress not found. Please update jupyter and ipywidgets. See https://ipywidgets.readthedocs.io/en/stable/user_install.html\n",
      "  from .autonotebook import tqdm as notebook_tqdm\n",
      "2024-11-07 18:38:49.615851: E external/local_xla/xla/stream_executor/cuda/cuda_fft.cc:477] Unable to register cuFFT factory: Attempting to register factory for plugin cuFFT when one has already been registered\n",
      "WARNING: All log messages before absl::InitializeLog() is called are written to STDERR\n",
      "E0000 00:00:1730984929.701836 3858899 cuda_dnn.cc:8310] Unable to register cuDNN factory: Attempting to register factory for plugin cuDNN when one has already been registered\n",
      "E0000 00:00:1730984929.713282 3858899 cuda_blas.cc:1418] Unable to register cuBLAS factory: Attempting to register factory for plugin cuBLAS when one has already been registered\n",
      "2024-11-07 18:38:49.787357: I tensorflow/core/platform/cpu_feature_guard.cc:210] This TensorFlow binary is optimized to use available CPU instructions in performance-critical operations.\n",
      "To enable the following instructions: AVX2 AVX512F FMA, in other operations, rebuild TensorFlow with the appropriate compiler flags.\n"
     ]
    }
   ],
   "source": [
    "import torch\n",
    "from tqdm.auto import tqdm\n",
    "import torch.nn as nn\n",
    "import torch.optim as optim\n",
    "from transformers import DistilBertTokenizer, DistilBertModel as DistilBert\n",
    "import tensorflow as tf"
   ]
  },
  {
   "cell_type": "code",
   "execution_count": null,
   "metadata": {},
   "outputs": [],
   "source": [
    "import pandas as pd"
   ]
  },
  {
   "cell_type": "code",
   "execution_count": null,
   "metadata": {},
   "outputs": [],
   "source": [
    "data= pd.read_csv('stemmed_train.csv')"
   ]
  },
  {
   "cell_type": "code",
   "execution_count": null,
   "metadata": {},
   "outputs": [
    {
     "name": "stdout",
     "output_type": "stream",
     "text": [
      "GPU configuration successful.\n"
     ]
    }
   ],
   "source": [
    "gpus = tf.config.experimental.list_physical_devices('GPU')\n",
    "tf.config.experimental.set_visible_devices(gpus[0], 'GPU')\n",
    "tf.config.experimental.set_memory_growth(gpus[0], True)\n",
    "\n",
    "gpus = tf.config.list_physical_devices('GPU')\n",
    "if gpus:\n",
    "    try:\n",
    "        # Set only the first GPU as visible\n",
    "        tf.config.set_visible_devices(gpus[0], 'GPU')\n",
    "        # Allow memory growth to allocate memory dynamically on the GPU\n",
    "        tf.config.experimental.set_memory_growth(gpus[0], True)\n",
    "        print(\"GPU configuration successful.\")\n",
    "    except RuntimeError as e:\n",
    "        print(e)\n",
    "else:\n",
    "    print(\"No GPU detected.\")"
   ]
  },
  {
   "cell_type": "code",
   "execution_count": null,
   "metadata": {},
   "outputs": [
    {
     "data": {
      "text/plain": [
       "True"
      ]
     },
     "execution_count": 26,
     "metadata": {},
     "output_type": "execute_result"
    }
   ],
   "source": [
    "import torch\n",
    "\n",
    "torch.cuda.is_available()\n",
    "\n",
    "\n",
    "#torch.cuda.is_available = lambda : True\n",
    "#device = torch.device('cuda' if torch.cuda.is_available() else 'cpu')"
   ]
  },
  {
   "cell_type": "code",
   "execution_count": null,
   "metadata": {},
   "outputs": [
    {
     "name": "stdout",
     "output_type": "stream",
     "text": [
      "Using device: cuda\n",
      "\n",
      "Tesla V100-PCIE-32GB\n",
      "Memory Usage:\n",
      "Allocated: 0.0 GB\n",
      "Cached:    0.0 GB\n"
     ]
    },
    {
     "name": "stderr",
     "output_type": "stream",
     "text": [
      "/tmp/ipykernel_3858899/892170581.py:12: FutureWarning: `torch.cuda.memory_cached` has been renamed to `torch.cuda.memory_reserved`\n",
      "  print('Cached:   ', round(torch.cuda.memory_cached(0)/1024**3,1), 'GB')\n"
     ]
    }
   ],
   "source": [
    "# setting device on GPU if available, else CPU\n",
    "device = torch.device('cuda' if torch.cuda.is_available() else 'cpu')\n",
    "print('Using device:', device)\n",
    "print()\n",
    "\n",
    "\n",
    "#Additional Info when using cuda\n",
    "if device.type == 'cuda':\n",
    "    print(torch.cuda.get_device_name(0))\n",
    "    print('Memory Usage:')\n",
    "    print('Allocated:', round(torch.cuda.memory_allocated(0)/1024**3,1), 'GB')\n",
    "    print('Cached:   ', round(torch.cuda.memory_cached(0)/1024**3,1), 'GB')"
   ]
  },
  {
   "cell_type": "markdown",
   "metadata": {},
   "source": [
    "## Preparing the tokenizer"
   ]
  },
  {
   "cell_type": "code",
   "execution_count": null,
   "metadata": {},
   "outputs": [],
   "source": [
    "tokenizer=DistilBertTokenizer.from_pretrained('distilbert-base-uncased')"
   ]
  },
  {
   "cell_type": "markdown",
   "metadata": {},
   "source": [
    "## Encoding on input text"
   ]
  },
  {
   "cell_type": "code",
   "execution_count": null,
   "metadata": {},
   "outputs": [],
   "source": [
    "encodings=tokenizer.batch_encode_plus(\n",
    "    data['text'].astype(str).tolist(),\n",
    "    padding=True,\n",
    "    truncation=True,\n",
    "    return_tensors='pt'\n",
    ")"
   ]
  },
  {
   "cell_type": "code",
   "execution_count": null,
   "metadata": {},
   "outputs": [
    {
     "data": {
      "text/plain": [
       "tensor([[  101,  9530,  7629,  ...,     0,     0,     0],\n",
       "        [  101,  9861,  6238,  ...,     0,     0,     0],\n",
       "        [  101,  2552,  2066,  ...,     0,     0,     0],\n",
       "        ...,\n",
       "        [  101, 16941, 23899,  ...,     0,     0,     0],\n",
       "        [  101,  2655, 10556,  ...,     0,     0,     0],\n",
       "        [  101, 10439,  2171,  ...,     0,     0,     0]])"
      ]
     },
     "execution_count": 29,
     "metadata": {},
     "output_type": "execute_result"
    }
   ],
   "source": [
    "encodings.input_ids"
   ]
  },
  {
   "cell_type": "code",
   "execution_count": null,
   "metadata": {},
   "outputs": [],
   "source": [
    "import torch\n",
    "from tqdm.auto import tqdm\n",
    "import torch.nn as nn\n",
    "import torch.optim as optim\n",
    "from transformers import DistilBertTokenizer, DistilBertModel as DistilBert\n",
    "from sklearn.preprocessing import LabelEncoder  # Import LabelEncoder\n",
    "\n",
    "\n",
    "class TextDataset():\n",
    "    def __init__(self, texts, labels, tokenizer, max_len):\n",
    "        self.texts = texts\n",
    "        self.labels = labels\n",
    "        self.tokenizer = tokenizer\n",
    "        self.max_len = max_len\n",
    "        self.label_encoder = LabelEncoder()  # Initialize LabelEncoder\n",
    "        self.label_encoder.fit(self.labels)  # Fit LabelEncoder to your labels\n",
    "\n",
    "    def __len__(self):\n",
    "        return len(self.texts)\n",
    "\n",
    "    def __getitem__(self, idx):\n",
    "        # Tokenize the text\n",
    "        encoding = self.tokenizer.encode_plus(\n",
    "            self.texts[idx],  # Access text using idx\n",
    "            max_length=self.max_len,\n",
    "            add_special_tokens=True,\n",
    "            padding='max_length',\n",
    "            truncation=True,\n",
    "            return_tensors=\"pt\"\n",
    "        )\n",
    "\n",
    "        # Encode the label using label_encoder\n",
    "        label = self.label_encoder.transform([self.labels[idx]])[0]\n",
    "\n",
    "        return {\n",
    "            'input_ids': encoding['input_ids'].flatten(),\n",
    "            'attention_mask': encoding['attention_mask'].flatten(),\n",
    "            'labels': torch.tensor(label, dtype=torch.long)\n",
    "        }\n",
    "\n",
    "# Initialize DistilBERT tokenizer\n",
    "tokenizer = DistilBertTokenizer.from_pretrained('distilbert-base-uncased')\n",
    "max_len = 128  # Adjust based on your dataset\n",
    "\n",
    "# Create Dataset instances\n",
    "train_dataset = TextDataset(data['text'].tolist(), data['sub_category'].tolist(), tokenizer, max_len)"
   ]
  },
  {
   "cell_type": "code",
   "execution_count": null,
   "metadata": {},
   "outputs": [
    {
     "data": {
      "text/plain": [
       "0        Cyber Bullying  Stalking  Sexting\n",
       "1                        Fraud CallVishing\n",
       "2                 Online Gambling  Betting\n",
       "3                         Online Job Fraud\n",
       "4                        Fraud CallVishing\n",
       "                       ...                \n",
       "87604       Internet Banking Related Fraud\n",
       "87605                EWallet Related Fraud\n",
       "87606                   UPI Related Frauds\n",
       "87607             Online Matrimonial Fraud\n",
       "87608                    Fraud CallVishing\n",
       "Name: sub_category, Length: 87609, dtype: object"
      ]
     },
     "execution_count": 31,
     "metadata": {},
     "output_type": "execute_result"
    }
   ],
   "source": [
    "data['sub_category']"
   ]
  },
  {
   "cell_type": "markdown",
   "metadata": {},
   "source": [
    "## Label encoding"
   ]
  },
  {
   "cell_type": "code",
   "execution_count": null,
   "metadata": {},
   "outputs": [],
   "source": [
    "label_encoder = LabelEncoder()\n",
    "label_encoder.fit(data['sub_category'])\n",
    "\n",
    "train_dataset.label_encoder = label_encoder"
   ]
  },
  {
   "cell_type": "markdown",
   "metadata": {},
   "source": [
    "## DistilBERT Model Training and Fine-tuning"
   ]
  },
  {
   "cell_type": "code",
   "execution_count": null,
   "metadata": {},
   "outputs": [],
   "source": [
    "from datasets import Dataset\n",
    "from sklearn.preprocessing import LabelEncoder\n",
    "from transformers import DistilBertTokenizer, DistilBertForSequenceClassification, TrainingArguments, Trainer"
   ]
  },
  {
   "cell_type": "code",
   "execution_count": null,
   "metadata": {},
   "outputs": [],
   "source": [
    "\n",
    "# Converting the pandas DataFrame to a Hugging Face Dataset\n",
    "data['text'] = data['text'].astype(str)\n",
    "train_dataset = Dataset.from_dict(data)\n",
    "\n",
    "# Initializing the label encoder and fitting it to the 'sub_category' column\n",
    "label_encoder = LabelEncoder()\n",
    "label_encoder.fit(data['sub_category'])\n",
    "\n",
    "# Defining a function to apply label encoding to the 'sub_category' column\n",
    "def label_encode(examples):\n",
    "    examples['labels'] = label_encoder.transform(examples['sub_category'])\n",
    "    return examples\n",
    "\n",
    "# Preprocessing function - CHANGED: Now uses 'text' instead of 'description'\n",
    "def preprocess_function(examples):\n",
    "    return tokenizer(examples['text'], padding=\"max_length\", truncation=True)\n",
    "\n",
    "\n",
    "# Applying label encoding to the dataset\n",
    "train_dataset = train_dataset.map(label_encode, batched=True)\n",
    "\n",
    "# Applying preprocessing to the dataset\n",
    "train_dataset = train_dataset.map(preprocess_function, batched=True)\n",
    "\n",
    "# Selecting the desired columns for training - CHANGED: Kept 'text' and removed unnecessary columns\n",
    "train_dataset = train_dataset.remove_columns(['sub_category'])  # adjust other columns to remove as needed\n",
    "\n",
    "# set format for the Trainer\n",
    "train_dataset.set_format(type='torch', columns=['input_ids', 'attention_mask', 'labels'])\n",
    "\n",
    "# Loading pre-trained DistilBERT model for sequence classification\n",
    "model = DistilBertForSequenceClassification.from_pretrained('distilbert-base-uncased', num_labels=len(label_encoder.classes_))\n",
    "\n",
    "# Defining training arguments\n",
    "training_args = TrainingArguments(\n",
    "    output_dir='./results',\n",
    "    num_train_epochs=3,\n",
    "    per_device_train_batch_size=16,\n",
    "    per_device_eval_batch_size=16,\n",
    "    warmup_steps=500,\n",
    "    weight_decay=0.01,\n",
    "    logging_dir='./logs',\n",
    "    logging_steps=10,\n",
    "    evaluation_strategy=\"no\"\n",
    ")\n",
    "\n",
    "# Initializing Trainer\n",
    "trainer = Trainer(\n",
    "    model=model,\n",
    "    args=training_args,\n",
    "    train_dataset=train_dataset,\n",
    ")\n",
    "\n",
    "# Training the model\n",
    "trainer.train()"
   ]
  },
  {
   "cell_type": "markdown",
   "metadata": {},
   "source": [
    "## Save model and tokenizer in a speecified Directory "
   ]
  },
  {
   "cell_type": "code",
   "execution_count": null,
   "metadata": {},
   "outputs": [
    {
     "data": {
      "text/plain": [
       "('model_directory/tokenizer_config.json',\n",
       " 'model_directory/special_tokens_map.json',\n",
       " 'model_directory/vocab.txt',\n",
       " 'model_directory/added_tokens.json')"
      ]
     },
     "execution_count": 12,
     "metadata": {},
     "output_type": "execute_result"
    }
   ],
   "source": [
    "model.save_pretrained(\"model_directory\")\n",
    "tokenizer.save_pretrained(\"model_directory\")\n"
   ]
  },
  {
   "cell_type": "markdown",
   "metadata": {},
   "source": [
    "## Load pre-trained model"
   ]
  },
  {
   "cell_type": "code",
   "execution_count": null,
   "metadata": {},
   "outputs": [],
   "source": [
    "from transformers import DistilBertForSequenceClassification, DistilBertTokenizer\n",
    "\n",
    "model = DistilBertForSequenceClassification.from_pretrained(\"model_directory\")\n",
    "tokenizer = DistilBertTokenizer.from_pretrained(\"model_directory\")"
   ]
  },
  {
   "cell_type": "markdown",
   "metadata": {},
   "source": [
    "## Mapping sub-categories with their corresponding categories"
   ]
  },
  {
   "cell_type": "code",
   "execution_count": null,
   "metadata": {},
   "outputs": [],
   "source": [
    "import csv\n",
    "\n",
    "def create_category_map(csv_file_path):\n",
    "    category_map = {}\n",
    "    with open('train.csv', mode='r',encoding='latin-1') as file:\n",
    "        reader = csv.DictReader(file)\n",
    "\n",
    "        for row in reader:\n",
    "            category = row['category']\n",
    "            sub_category = row['sub_category']\n",
    "            category_map[sub_category] = category\n",
    "\n",
    "    return category_map\n",
    "\n",
    "def get_category_by_sub_category(sub_category, category_map):\n",
    "    return category_map.get(sub_category, \"Sub-category not found\")"
   ]
  },
  {
   "cell_type": "code",
   "execution_count": null,
   "metadata": {},
   "outputs": [
    {
     "name": "stdout",
     "output_type": "stream",
     "text": [
      "Predicted subcategory: ['Other']\n",
      "Category for sub-category 'Other': Any Other Cyber Crime\n"
     ]
    }
   ],
   "source": [
    "import torch\n",
    "\n",
    "def predict(text):\n",
    "    # Move inputs to the same device as the model\n",
    "    device = next(model.parameters()).device  # Get the model's device\n",
    "    inputs = tokenizer(text, return_tensors=\"pt\", truncation=True, padding=True, max_length=128).to(device)\n",
    "\n",
    "    outputs = model(**inputs)\n",
    "    probs = outputs.logits.softmax(dim=1)\n",
    "    predicted_class = label_encoder.inverse_transform([probs.argmax().item()])\n",
    "    return predicted_class\n",
    "\n",
    "# Example\n",
    "text=\"The website name is accelsharecom who is providing financial plan with sort term investment in different different products like shared scooter valkswagen production line tax refund equipment accel exclusive equipment and so on with different price of Rs  Rs  Rs  with time frame of days days and so on and giving return of Rs  Rs  Rs every day for days  days like this But when we try to contact them the site was not opening and when we try to contact them through phone no the no is not reacheable\"\n",
    "prediction = predict(text)\n",
    "print(\"Predicted subcategory:\", prediction)\n",
    "# Test with a specific sub_category\n",
    "category_map=create_category_map('train.csv')\n",
    "sub_category_to_lookup = prediction[0]\n",
    "category = get_category_by_sub_category(sub_category_to_lookup, category_map)\n",
    "print(f\"Category for sub-category '{sub_category_to_lookup}': {category}\")"
   ]
  },
  {
   "cell_type": "markdown",
   "metadata": {},
   "source": [
    "## Load pre-processed test data"
   ]
  },
  {
   "cell_type": "code",
   "execution_count": null,
   "metadata": {},
   "outputs": [],
   "source": [
    "test_data = pd.read_csv('stemmed_test.csv', encoding='latin-1')"
   ]
  },
  {
   "cell_type": "code",
   "execution_count": null,
   "metadata": {},
   "outputs": [],
   "source": [
    "from datasets import Dataset\n",
    "\n",
    "# Converting the test pandas DataFrame to a Hugging Face Dataset\n",
    "test_data['text'] = test_data['text'].astype(str)\n",
    "test_data['sub_category'] = test_data['sub_category'].astype(str)\n",
    "\n",
    "# Creating Dataset from test data\n",
    "def safe_cast_to_string(value):\n",
    "    \"\"\"Attempts to safely cast a value to string, handling potential float values.\"\"\"\n",
    "    try:\n",
    "        # If the value is a float with no decimal part, converting it to an integer first\n",
    "        if isinstance(value, float) and value.is_integer():\n",
    "            value = int(value)\n",
    "        return str(value)\n",
    "    except (TypeError, ValueError):\n",
    "        # If casting fails, returning an empty string or a placeholder\n",
    "        return ''  # or \"NaN\" or any other suitable placeholder\n",
    "\n",
    "\n",
    "# Applying the safe_cast_to_string function to all columns of type 'object' (which usually includes strings)\n",
    "for col in test_data.select_dtypes(include=['object']).columns:\n",
    "    test_data[col] = test_data[col].apply(safe_cast_to_string)\n",
    "\n",
    "label_encoder = LabelEncoder()\n",
    "label_encoder.fit(test_data['sub_category'])\n",
    "\n",
    "# Defining the label_encode function to use with .map\n",
    "def label_encode(examples):\n",
    "    examples['labels'] = label_encoder.transform(examples['sub_category'])\n",
    "    return examples\n",
    "\n",
    "test_dataset = Dataset.from_dict(test_data)\n",
    "\n",
    "# Applying label encoding to the 'sub_category' column in the test dataset\n",
    "test_dataset = test_dataset.map(label_encode, batched=True)\n",
    "\n",
    "# Applying the same preprocessing to the test dataset\n",
    "def preprocess_function(examples):\n",
    "    return tokenizer(examples['text'], padding=\"max_length\", truncation=True)\n",
    "\n",
    "test_dataset = test_dataset.map(preprocess_function, batched=True)\n",
    "\n",
    "# Selecting the desired columns for evaluation\n",
    "test_dataset = test_dataset.remove_columns(['sub_category'])  # remove other unnecessary columns if any\n",
    "\n",
    "# Set format for the test dataset\n",
    "test_dataset.set_format(type='torch', columns=['input_ids', 'attention_mask', 'labels'])\n"
   ]
  },
  {
   "cell_type": "code",
   "execution_count": null,
   "metadata": {},
   "outputs": [
    {
     "name": "stderr",
     "output_type": "stream",
     "text": [
      "/home/ec.gpu/miniconda3/envs/nlp_indiaAI/lib/python3.10/site-packages/transformers/training_args.py:1568: FutureWarning: `evaluation_strategy` is deprecated and will be removed in version 4.46 of 🤗 Transformers. Use `eval_strategy` instead\n",
      "  warnings.warn(\n"
     ]
    }
   ],
   "source": [
    "from transformers import TrainingArguments\n",
    "\n",
    "# Defining our training arguments\n",
    "training_args = TrainingArguments(\n",
    "    output_dir=\"./results\",  # Output directory for checkpoints and logs\n",
    "    per_device_train_batch_size=8,  # Batch size per device during training\n",
    "    per_device_eval_batch_size=64,  # Batch size for evaluation\n",
    "    num_train_epochs=3,  # Number of training epochs\n",
    "    learning_rate=2e-5,  # Learning rate\n",
    "    weight_decay=0.01,  # Weight decay\n",
    "    logging_dir='./logs',  # Directory for storing logs\n",
    "    logging_steps=10,\n",
    "    evaluation_strategy=\"epoch\",\n",
    "    save_strategy=\"epoch\",\n",
    "    load_best_model_at_end=True,\n",
    "\n",
    ")"
   ]
  },
  {
   "cell_type": "code",
   "execution_count": null,
   "metadata": {},
   "outputs": [],
   "source": [
    "from transformers import BertForSequenceClassification\n",
    "import torch\n",
    "from torch.utils.data import DataLoader\n",
    "\n",
    "# Check if GPU is available\n",
    "device = torch.device(\"cuda\" if torch.cuda.is_available() else \"cpu\")\n",
    "\n",
    "# Load the trained model and move it to the appropriate device\n",
    "#model = BertForSequenceClassification.from_pretrained('path_to_your_trained_model')\n",
    "model.to(device)\n",
    "model.eval()\n",
    "\n",
    "# Create a DataLoader to batch the test data\n",
    "test_loader = DataLoader(test_dataset, batch_size=16)\n",
    "\n",
    "predictions = []\n",
    "\n",
    "# No gradient calculations needed\n",
    "with torch.no_grad():\n",
    "    for batch in test_loader:\n",
    "        # Move batch tensors to the same device as the model\n",
    "        input_ids = batch['input_ids'].to(device)\n",
    "        attention_mask = batch['attention_mask'].to(device)\n",
    "        labels = batch['labels'].to(device)  # Only if labels are required for evaluation\n",
    "\n",
    "        # Forward pass to get logits\n",
    "        outputs = model(input_ids=input_ids, attention_mask=attention_mask)\n",
    "        logits = outputs.logits\n",
    "\n",
    "        # Apply softmax to get probabilities (if needed)\n",
    "        probs = torch.softmax(logits, dim=-1)\n",
    "\n",
    "        # Get predicted labels\n",
    "        batch_predictions = torch.argmax(probs, dim=-1)\n",
    "        predictions.extend(batch_predictions.cpu().numpy())  # Move to CPU for storing results\n"
   ]
  },
  {
   "cell_type": "markdown",
   "metadata": {},
   "source": [
    "## Model Evaluation"
   ]
  },
  {
   "cell_type": "code",
   "execution_count": null,
   "metadata": {},
   "outputs": [],
   "source": [
    "from evaluate import load\n",
    "\n",
    "# Loading the accuracy metric\n",
    "accuracy_metric = load(\"accuracy\")\n",
    "\n",
    "# Defining  custom compute metrics function\n",
    "def compute_metrics(eval_pred):\n",
    "    logits, labels = eval_pred\n",
    "    predictions = logits.argmax(axis=-1)\n",
    "    return accuracy_metric.compute(predictions=predictions, references=labels)\n",
    "\n",
    "# Initializing Trainer with the compute metrics function for evaluation\n",
    "model.to(\"cpu\")\n",
    "trainer = Trainer(\n",
    "    model=model,\n",
    "    args=training_args,\n",
    "    train_dataset=train_dataset,  # Optional: if you want to retrain\n",
    "    eval_dataset=test_dataset,\n",
    "    compute_metrics=compute_metrics\n",
    ")\n",
    "\n",
    "# Running evaluation\n",
    "eval_results = trainer.evaluate()\n",
    "print(f\"Accuracy on test set: {eval_results['eval_accuracy']:.4f}\")"
   ]
  },
  {
   "cell_type": "code",
   "execution_count": null,
   "metadata": {},
   "outputs": [],
   "source": [
    "import pandas as pd\n",
    "from sklearn.metrics import accuracy_score\n",
    "\n",
    "# Assuming 'category_map' is a dictionary mapping each sub_category to its category\n",
    "category_map = create_category_map('/content/train.csv')\n",
    "\n",
    "# Function to get category from a predicted sub_category\n",
    "def map_to_category(sub_category, category_map):\n",
    "    return category_map.get(sub_category, \"Unknown Category\")\n",
    "\n",
    "# Predicting sub_category labels for test data\n",
    "predicted_subcategories = [predict(text)[0] for text in test_data['text'].tolist()]  # Batch predictions as needed\n",
    "\n",
    "# Mapping predicted subcategories to categories\n",
    "predicted_categories = [map_to_category(sub_cat, category_map) for sub_cat in predicted_subcategories]\n",
    "\n",
    "# Calculating actual categories from test data\n",
    "actual_categories = test_data['sub_category'].map(category_map)\n",
    "\n",
    "# Calculating category-level accuracy\n",
    "category_accuracy = accuracy_score(actual_categories, predicted_categories)\n",
    "print(f\"Category-Level Accuracy: {category_accuracy:.4f}\")"
   ]
  }
 ],
 "metadata": {
  "colab": {
   "provenance": []
  },
  "kernelspec": {
   "display_name": "nlp_indiaAI",
   "language": "python",
   "name": "python3"
  },
  "language_info": {
   "codemirror_mode": {
    "name": "ipython",
    "version": 3
   },
   "file_extension": ".py",
   "mimetype": "text/x-python",
   "name": "python",
   "nbconvert_exporter": "python",
   "pygments_lexer": "ipython3",
   "version": "3.10.15"
  }
 },
 "nbformat": 4,
 "nbformat_minor": 1
}
