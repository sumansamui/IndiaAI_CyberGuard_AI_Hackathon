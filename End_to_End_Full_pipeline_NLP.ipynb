{
 "cells": [
  {
   "cell_type": "markdown",
   "metadata": {
    "id": "Flq7bLfRZ7lk"
   },
   "source": [
    "## This repository contains an end-to-end pipeline for developing an NLP model (text classifier) that categorizes complaints based on victim, type of fraud, and other relevant parameters. \n",
    "\n",
    "## The code contains the following necessary steps:\n",
    "\n",
    "- **Text Preprocessing**: Tokenization, stop word removal, stemming, and text cleaning to prepare data.\n",
    "- **Model Development**: Selection of a suitable NLP model for text classification. The following models are explored: Naive Bayes, Random Forrest, XGBoost, SVM (RBF), SVM (polynomial), DistilBERT Model. \n",
    "\n",
    "- **Accuracy Measurement**: Evaluate the model based on metrics such as accuracy, precision, recall, and F1-score.\n"
   ]
  },
  {
   "cell_type": "code",
   "execution_count": null,
   "metadata": {
    "colab": {
     "base_uri": "https://localhost:8080/"
    },
    "collapsed": true,
    "id": "bKemLR_eufnt",
    "outputId": "540d57f9-4500-4d3e-f2db-9136216e73c9"
   },
   "outputs": [
    {
     "name": "stderr",
     "output_type": "stream",
     "text": [
      "[nltk_data] Downloading collection 'all'\n",
      "[nltk_data]    | \n",
      "[nltk_data]    | Downloading package abc to /root/nltk_data...\n",
      "[nltk_data]    |   Unzipping corpora/abc.zip.\n",
      "[nltk_data]    | Downloading package alpino to /root/nltk_data...\n",
      "[nltk_data]    |   Unzipping corpora/alpino.zip.\n",
      "[nltk_data]    | Downloading package averaged_perceptron_tagger to\n",
      "[nltk_data]    |     /root/nltk_data...\n",
      "[nltk_data]    |   Unzipping taggers/averaged_perceptron_tagger.zip.\n",
      "[nltk_data]    | Downloading package averaged_perceptron_tagger_eng to\n",
      "[nltk_data]    |     /root/nltk_data...\n",
      "[nltk_data]    |   Unzipping\n",
      "[nltk_data]    |       taggers/averaged_perceptron_tagger_eng.zip.\n",
      "[nltk_data]    | Downloading package averaged_perceptron_tagger_ru to\n",
      "[nltk_data]    |     /root/nltk_data...\n",
      "[nltk_data]    |   Unzipping\n",
      "[nltk_data]    |       taggers/averaged_perceptron_tagger_ru.zip.\n",
      "[nltk_data]    | Downloading package averaged_perceptron_tagger_rus to\n",
      "[nltk_data]    |     /root/nltk_data...\n",
      "[nltk_data]    |   Unzipping\n",
      "[nltk_data]    |       taggers/averaged_perceptron_tagger_rus.zip.\n",
      "[nltk_data]    | Downloading package basque_grammars to\n",
      "[nltk_data]    |     /root/nltk_data...\n",
      "[nltk_data]    |   Unzipping grammars/basque_grammars.zip.\n",
      "[nltk_data]    | Downloading package bcp47 to /root/nltk_data...\n",
      "[nltk_data]    | Downloading package biocreative_ppi to\n",
      "[nltk_data]    |     /root/nltk_data...\n",
      "[nltk_data]    |   Unzipping corpora/biocreative_ppi.zip.\n",
      "[nltk_data]    | Downloading package bllip_wsj_no_aux to\n",
      "[nltk_data]    |     /root/nltk_data...\n",
      "[nltk_data]    |   Unzipping models/bllip_wsj_no_aux.zip.\n",
      "[nltk_data]    | Downloading package book_grammars to\n",
      "[nltk_data]    |     /root/nltk_data...\n",
      "[nltk_data]    |   Unzipping grammars/book_grammars.zip.\n",
      "[nltk_data]    | Downloading package brown to /root/nltk_data...\n",
      "[nltk_data]    |   Unzipping corpora/brown.zip.\n",
      "[nltk_data]    | Downloading package brown_tei to /root/nltk_data...\n",
      "[nltk_data]    |   Unzipping corpora/brown_tei.zip.\n",
      "[nltk_data]    | Downloading package cess_cat to /root/nltk_data...\n",
      "[nltk_data]    |   Unzipping corpora/cess_cat.zip.\n",
      "[nltk_data]    | Downloading package cess_esp to /root/nltk_data...\n",
      "[nltk_data]    |   Unzipping corpora/cess_esp.zip.\n",
      "[nltk_data]    | Downloading package chat80 to /root/nltk_data...\n",
      "[nltk_data]    |   Unzipping corpora/chat80.zip.\n",
      "[nltk_data]    | Downloading package city_database to\n",
      "[nltk_data]    |     /root/nltk_data...\n",
      "[nltk_data]    |   Unzipping corpora/city_database.zip.\n",
      "[nltk_data]    | Downloading package cmudict to /root/nltk_data...\n",
      "[nltk_data]    |   Unzipping corpora/cmudict.zip.\n",
      "[nltk_data]    | Downloading package comparative_sentences to\n",
      "[nltk_data]    |     /root/nltk_data...\n",
      "[nltk_data]    |   Unzipping corpora/comparative_sentences.zip.\n",
      "[nltk_data]    | Downloading package comtrans to /root/nltk_data...\n",
      "[nltk_data]    | Downloading package conll2000 to /root/nltk_data...\n",
      "[nltk_data]    |   Unzipping corpora/conll2000.zip.\n",
      "[nltk_data]    | Downloading package conll2002 to /root/nltk_data...\n",
      "[nltk_data]    |   Unzipping corpora/conll2002.zip.\n",
      "[nltk_data]    | Downloading package conll2007 to /root/nltk_data...\n",
      "[nltk_data]    | Downloading package crubadan to /root/nltk_data...\n",
      "[nltk_data]    |   Unzipping corpora/crubadan.zip.\n",
      "[nltk_data]    | Downloading package dependency_treebank to\n",
      "[nltk_data]    |     /root/nltk_data...\n",
      "[nltk_data]    |   Unzipping corpora/dependency_treebank.zip.\n",
      "[nltk_data]    | Downloading package dolch to /root/nltk_data...\n",
      "[nltk_data]    |   Unzipping corpora/dolch.zip.\n",
      "[nltk_data]    | Downloading package europarl_raw to\n",
      "[nltk_data]    |     /root/nltk_data...\n",
      "[nltk_data]    |   Unzipping corpora/europarl_raw.zip.\n",
      "[nltk_data]    | Downloading package extended_omw to\n",
      "[nltk_data]    |     /root/nltk_data...\n",
      "[nltk_data]    | Downloading package floresta to /root/nltk_data...\n",
      "[nltk_data]    |   Unzipping corpora/floresta.zip.\n",
      "[nltk_data]    | Downloading package framenet_v15 to\n",
      "[nltk_data]    |     /root/nltk_data...\n",
      "[nltk_data]    |   Unzipping corpora/framenet_v15.zip.\n",
      "[nltk_data]    | Downloading package framenet_v17 to\n",
      "[nltk_data]    |     /root/nltk_data...\n",
      "[nltk_data]    |   Unzipping corpora/framenet_v17.zip.\n",
      "[nltk_data]    | Downloading package gazetteers to /root/nltk_data...\n",
      "[nltk_data]    |   Unzipping corpora/gazetteers.zip.\n",
      "[nltk_data]    | Downloading package genesis to /root/nltk_data...\n",
      "[nltk_data]    |   Unzipping corpora/genesis.zip.\n",
      "[nltk_data]    | Downloading package gutenberg to /root/nltk_data...\n",
      "[nltk_data]    |   Unzipping corpora/gutenberg.zip.\n",
      "[nltk_data]    | Downloading package ieer to /root/nltk_data...\n",
      "[nltk_data]    |   Unzipping corpora/ieer.zip.\n",
      "[nltk_data]    | Downloading package inaugural to /root/nltk_data...\n",
      "[nltk_data]    |   Unzipping corpora/inaugural.zip.\n",
      "[nltk_data]    | Downloading package indian to /root/nltk_data...\n",
      "[nltk_data]    |   Unzipping corpora/indian.zip.\n",
      "[nltk_data]    | Downloading package jeita to /root/nltk_data...\n",
      "[nltk_data]    | Downloading package kimmo to /root/nltk_data...\n",
      "[nltk_data]    |   Unzipping corpora/kimmo.zip.\n",
      "[nltk_data]    | Downloading package knbc to /root/nltk_data...\n",
      "[nltk_data]    | Downloading package large_grammars to\n",
      "[nltk_data]    |     /root/nltk_data...\n",
      "[nltk_data]    |   Unzipping grammars/large_grammars.zip.\n",
      "[nltk_data]    | Downloading package lin_thesaurus to\n",
      "[nltk_data]    |     /root/nltk_data...\n",
      "[nltk_data]    |   Unzipping corpora/lin_thesaurus.zip.\n",
      "[nltk_data]    | Downloading package mac_morpho to /root/nltk_data...\n",
      "[nltk_data]    |   Unzipping corpora/mac_morpho.zip.\n",
      "[nltk_data]    | Downloading package machado to /root/nltk_data...\n",
      "[nltk_data]    | Downloading package masc_tagged to /root/nltk_data...\n",
      "[nltk_data]    | Downloading package maxent_ne_chunker to\n",
      "[nltk_data]    |     /root/nltk_data...\n",
      "[nltk_data]    |   Unzipping chunkers/maxent_ne_chunker.zip.\n",
      "[nltk_data]    | Downloading package maxent_ne_chunker_tab to\n",
      "[nltk_data]    |     /root/nltk_data...\n",
      "[nltk_data]    |   Unzipping chunkers/maxent_ne_chunker_tab.zip.\n",
      "[nltk_data]    | Downloading package maxent_treebank_pos_tagger to\n",
      "[nltk_data]    |     /root/nltk_data...\n",
      "[nltk_data]    |   Unzipping taggers/maxent_treebank_pos_tagger.zip.\n",
      "[nltk_data]    | Downloading package maxent_treebank_pos_tagger_tab to\n",
      "[nltk_data]    |     /root/nltk_data...\n",
      "[nltk_data]    |   Unzipping\n",
      "[nltk_data]    |       taggers/maxent_treebank_pos_tagger_tab.zip.\n",
      "[nltk_data]    | Downloading package moses_sample to\n",
      "[nltk_data]    |     /root/nltk_data...\n",
      "[nltk_data]    |   Unzipping models/moses_sample.zip.\n",
      "[nltk_data]    | Downloading package movie_reviews to\n",
      "[nltk_data]    |     /root/nltk_data...\n",
      "[nltk_data]    |   Unzipping corpora/movie_reviews.zip.\n",
      "[nltk_data]    | Downloading package mte_teip5 to /root/nltk_data...\n",
      "[nltk_data]    |   Unzipping corpora/mte_teip5.zip.\n",
      "[nltk_data]    | Downloading package mwa_ppdb to /root/nltk_data...\n",
      "[nltk_data]    |   Unzipping misc/mwa_ppdb.zip.\n",
      "[nltk_data]    | Downloading package names to /root/nltk_data...\n",
      "[nltk_data]    |   Unzipping corpora/names.zip.\n",
      "[nltk_data]    | Downloading package nombank.1.0 to /root/nltk_data...\n",
      "[nltk_data]    | Downloading package nonbreaking_prefixes to\n",
      "[nltk_data]    |     /root/nltk_data...\n",
      "[nltk_data]    |   Unzipping corpora/nonbreaking_prefixes.zip.\n",
      "[nltk_data]    | Downloading package nps_chat to /root/nltk_data...\n",
      "[nltk_data]    |   Unzipping corpora/nps_chat.zip.\n",
      "[nltk_data]    | Downloading package omw to /root/nltk_data...\n",
      "[nltk_data]    | Downloading package omw-1.4 to /root/nltk_data...\n",
      "[nltk_data]    | Downloading package opinion_lexicon to\n",
      "[nltk_data]    |     /root/nltk_data...\n",
      "[nltk_data]    |   Unzipping corpora/opinion_lexicon.zip.\n",
      "[nltk_data]    | Downloading package panlex_swadesh to\n",
      "[nltk_data]    |     /root/nltk_data...\n",
      "[nltk_data]    | Downloading package paradigms to /root/nltk_data...\n",
      "[nltk_data]    |   Unzipping corpora/paradigms.zip.\n",
      "[nltk_data]    | Downloading package pe08 to /root/nltk_data...\n",
      "[nltk_data]    |   Unzipping corpora/pe08.zip.\n",
      "[nltk_data]    | Downloading package perluniprops to\n",
      "[nltk_data]    |     /root/nltk_data...\n",
      "[nltk_data]    |   Unzipping misc/perluniprops.zip.\n",
      "[nltk_data]    | Downloading package pil to /root/nltk_data...\n",
      "[nltk_data]    |   Unzipping corpora/pil.zip.\n",
      "[nltk_data]    | Downloading package pl196x to /root/nltk_data...\n",
      "[nltk_data]    |   Unzipping corpora/pl196x.zip.\n",
      "[nltk_data]    | Downloading package porter_test to /root/nltk_data...\n",
      "[nltk_data]    |   Unzipping stemmers/porter_test.zip.\n",
      "[nltk_data]    | Downloading package ppattach to /root/nltk_data...\n",
      "[nltk_data]    |   Unzipping corpora/ppattach.zip.\n",
      "[nltk_data]    | Downloading package problem_reports to\n",
      "[nltk_data]    |     /root/nltk_data...\n",
      "[nltk_data]    |   Unzipping corpora/problem_reports.zip.\n",
      "[nltk_data]    | Downloading package product_reviews_1 to\n",
      "[nltk_data]    |     /root/nltk_data...\n",
      "[nltk_data]    |   Unzipping corpora/product_reviews_1.zip.\n",
      "[nltk_data]    | Downloading package product_reviews_2 to\n",
      "[nltk_data]    |     /root/nltk_data...\n",
      "[nltk_data]    |   Unzipping corpora/product_reviews_2.zip.\n",
      "[nltk_data]    | Downloading package propbank to /root/nltk_data...\n",
      "[nltk_data]    | Downloading package pros_cons to /root/nltk_data...\n",
      "[nltk_data]    |   Unzipping corpora/pros_cons.zip.\n",
      "[nltk_data]    | Downloading package ptb to /root/nltk_data...\n",
      "[nltk_data]    |   Unzipping corpora/ptb.zip.\n",
      "[nltk_data]    | Downloading package punkt to /root/nltk_data...\n",
      "[nltk_data]    |   Unzipping tokenizers/punkt.zip.\n",
      "[nltk_data]    | Downloading package punkt_tab to /root/nltk_data...\n",
      "[nltk_data]    |   Unzipping tokenizers/punkt_tab.zip.\n",
      "[nltk_data]    | Downloading package qc to /root/nltk_data...\n",
      "[nltk_data]    |   Unzipping corpora/qc.zip.\n",
      "[nltk_data]    | Downloading package reuters to /root/nltk_data...\n",
      "[nltk_data]    | Downloading package rslp to /root/nltk_data...\n",
      "[nltk_data]    |   Unzipping stemmers/rslp.zip.\n",
      "[nltk_data]    | Downloading package rte to /root/nltk_data...\n",
      "[nltk_data]    |   Unzipping corpora/rte.zip.\n",
      "[nltk_data]    | Downloading package sample_grammars to\n",
      "[nltk_data]    |     /root/nltk_data...\n",
      "[nltk_data]    |   Unzipping grammars/sample_grammars.zip.\n",
      "[nltk_data]    | Downloading package semcor to /root/nltk_data...\n",
      "[nltk_data]    | Downloading package senseval to /root/nltk_data...\n",
      "[nltk_data]    |   Unzipping corpora/senseval.zip.\n",
      "[nltk_data]    | Downloading package sentence_polarity to\n",
      "[nltk_data]    |     /root/nltk_data...\n",
      "[nltk_data]    |   Unzipping corpora/sentence_polarity.zip.\n",
      "[nltk_data]    | Downloading package sentiwordnet to\n",
      "[nltk_data]    |     /root/nltk_data...\n",
      "[nltk_data]    |   Unzipping corpora/sentiwordnet.zip.\n",
      "[nltk_data]    | Downloading package shakespeare to /root/nltk_data...\n",
      "[nltk_data]    |   Unzipping corpora/shakespeare.zip.\n",
      "[nltk_data]    | Downloading package sinica_treebank to\n",
      "[nltk_data]    |     /root/nltk_data...\n",
      "[nltk_data]    |   Unzipping corpora/sinica_treebank.zip.\n",
      "[nltk_data]    | Downloading package smultron to /root/nltk_data...\n",
      "[nltk_data]    |   Unzipping corpora/smultron.zip.\n",
      "[nltk_data]    | Downloading package snowball_data to\n",
      "[nltk_data]    |     /root/nltk_data...\n",
      "[nltk_data]    | Downloading package spanish_grammars to\n",
      "[nltk_data]    |     /root/nltk_data...\n",
      "[nltk_data]    |   Unzipping grammars/spanish_grammars.zip.\n",
      "[nltk_data]    | Downloading package state_union to /root/nltk_data...\n",
      "[nltk_data]    |   Unzipping corpora/state_union.zip.\n",
      "[nltk_data]    | Downloading package stopwords to /root/nltk_data...\n",
      "[nltk_data]    |   Unzipping corpora/stopwords.zip.\n",
      "[nltk_data]    | Downloading package subjectivity to\n",
      "[nltk_data]    |     /root/nltk_data...\n",
      "[nltk_data]    |   Unzipping corpora/subjectivity.zip.\n",
      "[nltk_data]    | Downloading package swadesh to /root/nltk_data...\n",
      "[nltk_data]    |   Unzipping corpora/swadesh.zip.\n",
      "[nltk_data]    | Downloading package switchboard to /root/nltk_data...\n",
      "[nltk_data]    |   Unzipping corpora/switchboard.zip.\n",
      "[nltk_data]    | Downloading package tagsets to /root/nltk_data...\n",
      "[nltk_data]    |   Unzipping help/tagsets.zip.\n",
      "[nltk_data]    | Downloading package tagsets_json to\n",
      "[nltk_data]    |     /root/nltk_data...\n",
      "[nltk_data]    |   Unzipping help/tagsets_json.zip.\n",
      "[nltk_data]    | Downloading package timit to /root/nltk_data...\n",
      "[nltk_data]    |   Unzipping corpora/timit.zip.\n",
      "[nltk_data]    | Downloading package toolbox to /root/nltk_data...\n",
      "[nltk_data]    |   Unzipping corpora/toolbox.zip.\n",
      "[nltk_data]    | Downloading package treebank to /root/nltk_data...\n",
      "[nltk_data]    |   Unzipping corpora/treebank.zip.\n",
      "[nltk_data]    | Downloading package twitter_samples to\n",
      "[nltk_data]    |     /root/nltk_data...\n",
      "[nltk_data]    |   Unzipping corpora/twitter_samples.zip.\n",
      "[nltk_data]    | Downloading package udhr to /root/nltk_data...\n",
      "[nltk_data]    |   Unzipping corpora/udhr.zip.\n",
      "[nltk_data]    | Downloading package udhr2 to /root/nltk_data...\n",
      "[nltk_data]    |   Unzipping corpora/udhr2.zip.\n",
      "[nltk_data]    | Downloading package unicode_samples to\n",
      "[nltk_data]    |     /root/nltk_data...\n",
      "[nltk_data]    |   Unzipping corpora/unicode_samples.zip.\n",
      "[nltk_data]    | Downloading package universal_tagset to\n",
      "[nltk_data]    |     /root/nltk_data...\n",
      "[nltk_data]    |   Unzipping taggers/universal_tagset.zip.\n",
      "[nltk_data]    | Downloading package universal_treebanks_v20 to\n",
      "[nltk_data]    |     /root/nltk_data...\n",
      "[nltk_data]    | Downloading package vader_lexicon to\n",
      "[nltk_data]    |     /root/nltk_data...\n",
      "[nltk_data]    | Downloading package verbnet to /root/nltk_data...\n",
      "[nltk_data]    |   Unzipping corpora/verbnet.zip.\n",
      "[nltk_data]    | Downloading package verbnet3 to /root/nltk_data...\n",
      "[nltk_data]    |   Unzipping corpora/verbnet3.zip.\n",
      "[nltk_data]    | Downloading package webtext to /root/nltk_data...\n",
      "[nltk_data]    |   Unzipping corpora/webtext.zip.\n",
      "[nltk_data]    | Downloading package wmt15_eval to /root/nltk_data...\n",
      "[nltk_data]    |   Unzipping models/wmt15_eval.zip.\n",
      "[nltk_data]    | Downloading package word2vec_sample to\n",
      "[nltk_data]    |     /root/nltk_data...\n",
      "[nltk_data]    |   Unzipping models/word2vec_sample.zip.\n",
      "[nltk_data]    | Downloading package wordnet to /root/nltk_data...\n",
      "[nltk_data]    | Downloading package wordnet2021 to /root/nltk_data...\n",
      "[nltk_data]    | Downloading package wordnet2022 to /root/nltk_data...\n",
      "[nltk_data]    |   Unzipping corpora/wordnet2022.zip.\n",
      "[nltk_data]    | Downloading package wordnet31 to /root/nltk_data...\n",
      "[nltk_data]    | Downloading package wordnet_ic to /root/nltk_data...\n",
      "[nltk_data]    |   Unzipping corpora/wordnet_ic.zip.\n",
      "[nltk_data]    | Downloading package words to /root/nltk_data...\n",
      "[nltk_data]    |   Unzipping corpora/words.zip.\n",
      "[nltk_data]    | Downloading package ycoe to /root/nltk_data...\n",
      "[nltk_data]    |   Unzipping corpora/ycoe.zip.\n",
      "[nltk_data]    | \n",
      "[nltk_data]  Done downloading collection all\n"
     ]
    }
   ],
   "source": [
    "import pandas as pd\n",
    "import numpy as np\n",
    "import string\n",
    "import re\n",
    "import matplotlib.pyplot as plt\n",
    "import nltk\n",
    "nltk.download('all')\n",
    "from nltk.stem import PorterStemmer\n",
    "from nltk.corpus import stopwords\n",
    "from nltk.tokenize import word_tokenize\n",
    "from nltk.stem import WordNetLemmatizer\n",
    "import string\n",
    "from sklearn.preprocessing import LabelEncoder\n",
    "from sklearn.feature_extraction.text import CountVectorizer\n",
    "from sklearn.model_selection import train_test_split\n",
    "from sklearn.feature_extraction.text import TfidfVectorizer\n"
   ]
  },
  {
   "cell_type": "markdown",
   "metadata": {
    "id": "klaMQPp1aGBB"
   },
   "source": [
    "# Loading the train and test sets"
   ]
  },
  {
   "cell_type": "code",
   "execution_count": null,
   "metadata": {
    "id": "HyzxcayC8fnR"
   },
   "outputs": [],
   "source": [
    "data = pd.read_csv(\"/content/train.csv\", encoding=\"ISO-8859-1\")\n",
    "test = pd.read_csv(\"/content/test.csv\")\n",
    "data = data.rename(columns={'crimeaditionalinfo': 'text'})\n",
    "data = data.dropna(subset=['text'])"
   ]
  },
  {
   "cell_type": "code",
   "execution_count": null,
   "metadata": {
    "id": "C0eZEDkqPNr0"
   },
   "outputs": [],
   "source": [
    "test = test.rename(columns={'crimeaditionalinfo': 'text'}) # renaming the crime info column\n",
    "test = test.dropna(subset=['text']) # dropping all entries with no information on the crime"
   ]
  },
  {
   "cell_type": "markdown",
   "metadata": {},
   "source": [
    "# EDA and Preprocessing starts..."
   ]
  },
  {
   "cell_type": "markdown",
   "metadata": {
    "id": "WSDd8mqorr7W"
   },
   "source": [
    "# Cleaning nulls in text entry"
   ]
  },
  {
   "cell_type": "code",
   "execution_count": null,
   "metadata": {
    "colab": {
     "base_uri": "https://localhost:8080/"
    },
    "collapsed": true,
    "id": "DvjTxa4Xu836",
    "outputId": "901cbf52-e1b0-4c62-fc62-b31ee8f40822"
   },
   "outputs": [
    {
     "name": "stdout",
     "output_type": "stream",
     "text": [
      "null count:  0\n"
     ]
    },
    {
     "name": "stderr",
     "output_type": "stream",
     "text": [
      "<ipython-input-7-a0c78cba6830>:3: FutureWarning: A value is trying to be set on a copy of a DataFrame or Series through chained assignment using an inplace method.\n",
      "The behavior will change in pandas 3.0. This inplace method will never work because the intermediate object on which we are setting values always behaves as a copy.\n",
      "\n",
      "For example, when doing 'df[col].method(value, inplace=True)', try using 'df.method({col: value}, inplace=True)' or df[col] = df[col].method(value) instead, to perform the operation inplace on the original object.\n",
      "\n",
      "\n",
      "  test['sub_category'].fillna(data['category'], inplace=True) # replacing the null entries in sub_category column with the category of the complaint\n"
     ]
    }
   ],
   "source": [
    "null_count = data['sub_category'].isnull().sum()\n",
    "data['sub_category'].fillna(data['category'], inplace=True)\n",
    "test['sub_category'].fillna(data['category'], inplace=True) # replacing the null entries in sub_category column with the category of the complaint\n",
    "print('null count: ', null_count)"
   ]
  },
  {
   "cell_type": "code",
   "execution_count": null,
   "metadata": {
    "colab": {
     "base_uri": "https://localhost:8080/",
     "height": 1000
    },
    "id": "JV5300HCv6F-",
    "outputId": "9cc23664-4ecb-4609-c3e5-0d2e5f01c706"
   },
   "outputs": [
    {
     "data": {
      "text/html": [
       "<div>\n",
       "<style scoped>\n",
       "    .dataframe tbody tr th:only-of-type {\n",
       "        vertical-align: middle;\n",
       "    }\n",
       "\n",
       "    .dataframe tbody tr th {\n",
       "        vertical-align: top;\n",
       "    }\n",
       "\n",
       "    .dataframe thead th {\n",
       "        text-align: right;\n",
       "    }\n",
       "</style>\n",
       "<table border=\"1\" class=\"dataframe\">\n",
       "  <thead>\n",
       "    <tr style=\"text-align: right;\">\n",
       "      <th></th>\n",
       "      <th></th>\n",
       "      <th>count</th>\n",
       "    </tr>\n",
       "    <tr>\n",
       "      <th>category</th>\n",
       "      <th>sub_category</th>\n",
       "      <th></th>\n",
       "    </tr>\n",
       "  </thead>\n",
       "  <tbody>\n",
       "    <tr>\n",
       "      <th>Any Other Cyber Crime</th>\n",
       "      <th>Other</th>\n",
       "      <td>10877</td>\n",
       "    </tr>\n",
       "    <tr>\n",
       "      <th>Child Pornography CPChild Sexual Abuse Material CSAM</th>\n",
       "      <th>Child Pornography CPChild Sexual Abuse Material CSAM</th>\n",
       "      <td>379</td>\n",
       "    </tr>\n",
       "    <tr>\n",
       "      <th>Cryptocurrency Crime</th>\n",
       "      <th>Cryptocurrency Fraud</th>\n",
       "      <td>480</td>\n",
       "    </tr>\n",
       "    <tr>\n",
       "      <th rowspan=\"7\" valign=\"top\">Cyber Attack/ Dependent Crimes</th>\n",
       "      <th>Hacking/Defacement</th>\n",
       "      <td>540</td>\n",
       "    </tr>\n",
       "    <tr>\n",
       "      <th>Ransomware Attack</th>\n",
       "      <td>534</td>\n",
       "    </tr>\n",
       "    <tr>\n",
       "      <th>Malware Attack</th>\n",
       "      <td>521</td>\n",
       "    </tr>\n",
       "    <tr>\n",
       "      <th>Tampering with computer source documents</th>\n",
       "      <td>517</td>\n",
       "    </tr>\n",
       "    <tr>\n",
       "      <th>SQL Injection</th>\n",
       "      <td>508</td>\n",
       "    </tr>\n",
       "    <tr>\n",
       "      <th>Denial of Service (DoS)/Distributed Denial of Service (DDOS) attacks</th>\n",
       "      <td>504</td>\n",
       "    </tr>\n",
       "    <tr>\n",
       "      <th>Data Breach/Theft</th>\n",
       "      <td>484</td>\n",
       "    </tr>\n",
       "    <tr>\n",
       "      <th>Cyber Terrorism</th>\n",
       "      <th>Cyber Terrorism</th>\n",
       "      <td>161</td>\n",
       "    </tr>\n",
       "    <tr>\n",
       "      <th rowspan=\"5\" valign=\"top\">Hacking  Damage to computercomputer system etc</th>\n",
       "      <th>Unauthorised AccessData Breach</th>\n",
       "      <td>1114</td>\n",
       "    </tr>\n",
       "    <tr>\n",
       "      <th>Email Hacking</th>\n",
       "      <td>349</td>\n",
       "    </tr>\n",
       "    <tr>\n",
       "      <th>Damage to computer computer systems etc</th>\n",
       "      <td>108</td>\n",
       "    </tr>\n",
       "    <tr>\n",
       "      <th>Website DefacementHacking</th>\n",
       "      <td>89</td>\n",
       "    </tr>\n",
       "    <tr>\n",
       "      <th>Tampering with computer source documents</th>\n",
       "      <td>50</td>\n",
       "    </tr>\n",
       "    <tr>\n",
       "      <th>Online Cyber Trafficking</th>\n",
       "      <th>Online Trafficking</th>\n",
       "      <td>183</td>\n",
       "    </tr>\n",
       "    <tr>\n",
       "      <th rowspan=\"7\" valign=\"top\">Online Financial Fraud</th>\n",
       "      <th>UPI Related Frauds</th>\n",
       "      <td>26843</td>\n",
       "    </tr>\n",
       "    <tr>\n",
       "      <th>DebitCredit Card FraudSim Swap Fraud</th>\n",
       "      <td>10802</td>\n",
       "    </tr>\n",
       "    <tr>\n",
       "      <th>Internet Banking Related Fraud</th>\n",
       "      <td>8871</td>\n",
       "    </tr>\n",
       "    <tr>\n",
       "      <th>Fraud CallVishing</th>\n",
       "      <td>5802</td>\n",
       "    </tr>\n",
       "    <tr>\n",
       "      <th>EWallet Related Fraud</th>\n",
       "      <td>4047</td>\n",
       "    </tr>\n",
       "    <tr>\n",
       "      <th>DematDepository Fraud</th>\n",
       "      <td>761</td>\n",
       "    </tr>\n",
       "    <tr>\n",
       "      <th>Business Email CompromiseEmail Takeover</th>\n",
       "      <td>290</td>\n",
       "    </tr>\n",
       "    <tr>\n",
       "      <th>Online Gambling  Betting</th>\n",
       "      <th>Online Gambling  Betting</th>\n",
       "      <td>444</td>\n",
       "    </tr>\n",
       "    <tr>\n",
       "      <th rowspan=\"10\" valign=\"top\">Online and Social Media Related Crime</th>\n",
       "      <th>Cyber Bullying  Stalking  Sexting</th>\n",
       "      <td>4089</td>\n",
       "    </tr>\n",
       "    <tr>\n",
       "      <th>FakeImpersonating Profile</th>\n",
       "      <td>2299</td>\n",
       "    </tr>\n",
       "    <tr>\n",
       "      <th>Profile Hacking Identity Theft</th>\n",
       "      <td>2072</td>\n",
       "    </tr>\n",
       "    <tr>\n",
       "      <th>Cheating by Impersonation</th>\n",
       "      <td>1987</td>\n",
       "    </tr>\n",
       "    <tr>\n",
       "      <th>Online Job Fraud</th>\n",
       "      <td>912</td>\n",
       "    </tr>\n",
       "    <tr>\n",
       "      <th>Provocative Speech for unlawful acts</th>\n",
       "      <td>417</td>\n",
       "    </tr>\n",
       "    <tr>\n",
       "      <th>EMail Phishing</th>\n",
       "      <td>157</td>\n",
       "    </tr>\n",
       "    <tr>\n",
       "      <th>Online Matrimonial Fraud</th>\n",
       "      <td>132</td>\n",
       "    </tr>\n",
       "    <tr>\n",
       "      <th>Impersonating Email</th>\n",
       "      <td>44</td>\n",
       "    </tr>\n",
       "    <tr>\n",
       "      <th>Intimidating Email</th>\n",
       "      <td>29</td>\n",
       "    </tr>\n",
       "    <tr>\n",
       "      <th>Ransomware</th>\n",
       "      <th>Ransomware</th>\n",
       "      <td>56</td>\n",
       "    </tr>\n",
       "    <tr>\n",
       "      <th>RapeGang Rape RGRSexually Abusive Content</th>\n",
       "      <th>RapeGang Rape RGRSexually Abusive Content</th>\n",
       "      <td>2822</td>\n",
       "    </tr>\n",
       "    <tr>\n",
       "      <th>Report Unlawful Content</th>\n",
       "      <th>Against Interest of sovereignty or integrity of India</th>\n",
       "      <td>1</td>\n",
       "    </tr>\n",
       "    <tr>\n",
       "      <th>Sexually Explicit Act</th>\n",
       "      <th>Sexually Explicit Act</th>\n",
       "      <td>1552</td>\n",
       "    </tr>\n",
       "    <tr>\n",
       "      <th>Sexually Obscene material</th>\n",
       "      <th>Sexually Obscene material</th>\n",
       "      <td>1838</td>\n",
       "    </tr>\n",
       "  </tbody>\n",
       "</table>\n",
       "</div><br><label><b>dtype:</b> int64</label>"
      ],
      "text/plain": [
       "category                                              sub_category                                                        \n",
       "Any Other Cyber Crime                                 Other                                                                   10877\n",
       "Child Pornography CPChild Sexual Abuse Material CSAM  Child Pornography CPChild Sexual Abuse Material CSAM                      379\n",
       "Cryptocurrency Crime                                  Cryptocurrency Fraud                                                      480\n",
       "Cyber Attack/ Dependent Crimes                        Hacking/Defacement                                                        540\n",
       "                                                      Ransomware Attack                                                         534\n",
       "                                                      Malware Attack                                                            521\n",
       "                                                      Tampering with computer source documents                                  517\n",
       "                                                      SQL Injection                                                             508\n",
       "                                                      Denial of Service (DoS)/Distributed Denial of Service (DDOS) attacks      504\n",
       "                                                      Data Breach/Theft                                                         484\n",
       "Cyber Terrorism                                       Cyber Terrorism                                                           161\n",
       "Hacking  Damage to computercomputer system etc        Unauthorised AccessData Breach                                           1114\n",
       "                                                      Email Hacking                                                             349\n",
       "                                                      Damage to computer computer systems etc                                   108\n",
       "                                                      Website DefacementHacking                                                  89\n",
       "                                                      Tampering with computer source documents                                   50\n",
       "Online Cyber Trafficking                              Online Trafficking                                                        183\n",
       "Online Financial Fraud                                UPI Related Frauds                                                      26843\n",
       "                                                      DebitCredit Card FraudSim Swap Fraud                                    10802\n",
       "                                                      Internet Banking Related Fraud                                           8871\n",
       "                                                      Fraud CallVishing                                                        5802\n",
       "                                                      EWallet Related Fraud                                                    4047\n",
       "                                                      DematDepository Fraud                                                     761\n",
       "                                                      Business Email CompromiseEmail Takeover                                   290\n",
       "Online Gambling  Betting                              Online Gambling  Betting                                                  444\n",
       "Online and Social Media Related Crime                 Cyber Bullying  Stalking  Sexting                                        4089\n",
       "                                                      FakeImpersonating Profile                                                2299\n",
       "                                                      Profile Hacking Identity Theft                                           2072\n",
       "                                                      Cheating by Impersonation                                                1987\n",
       "                                                      Online Job Fraud                                                          912\n",
       "                                                      Provocative Speech for unlawful acts                                      417\n",
       "                                                      EMail Phishing                                                            157\n",
       "                                                      Online Matrimonial Fraud                                                  132\n",
       "                                                      Impersonating Email                                                        44\n",
       "                                                      Intimidating Email                                                         29\n",
       "Ransomware                                            Ransomware                                                                 56\n",
       "RapeGang Rape RGRSexually Abusive Content             RapeGang Rape RGRSexually Abusive Content                                2822\n",
       "Report Unlawful Content                               Against Interest of sovereignty or integrity of India                       1\n",
       "Sexually Explicit Act                                 Sexually Explicit Act                                                    1552\n",
       "Sexually Obscene material                             Sexually Obscene material                                                1838\n",
       "Name: count, dtype: int64"
      ]
     },
     "execution_count": 8,
     "metadata": {},
     "output_type": "execute_result"
    }
   ],
   "source": [
    "data.groupby('category')['sub_category'].value_counts() # number of entries and sub categories under each categories"
   ]
  },
  {
   "cell_type": "markdown",
   "metadata": {
    "id": "CPtFotvW9gks"
   },
   "source": [
    "#  Mapping sub categories to respective categories"
   ]
  },
  {
   "cell_type": "code",
   "execution_count": null,
   "metadata": {
    "colab": {
     "base_uri": "https://localhost:8080/"
    },
    "id": "wfGm-Mjs8PRe",
    "outputId": "2b433842-c564-4b92-a13e-ea79853ed5aa"
   },
   "outputs": [
    {
     "name": "stdout",
     "output_type": "stream",
     "text": [
      "Cryptocurrency Crime\n"
     ]
    }
   ],
   "source": [
    "mapping = data.set_index('sub_category')['category'].to_dict()\n",
    "def get_category(sub_category):\n",
    "    return mapping.get(sub_category)\n",
    "subcategories = data['sub_category'].unique().tolist()\n",
    "\n",
    "print(get_category('Cryptocurrency Fraud')) # Example usecase"
   ]
  },
  {
   "cell_type": "code",
   "execution_count": null,
   "metadata": {
    "colab": {
     "base_uri": "https://localhost:8080/",
     "height": 753
    },
    "id": "AlJ2RC6zv8p6",
    "outputId": "94f185c3-6df4-4151-8c54-c617a7e2eaac"
   },
   "outputs": [
    {
     "data": {
      "image/png": "[encoded data removed]",
      "text/plain": [
       "<Figure size 1000x800 with 1 Axes>"
      ]
     },
     "metadata": {},
     "output_type": "display_data"
    }
   ],
   "source": [
    "subcat_count = data.groupby('category')['sub_category'].nunique()\n",
    "plt.figure(figsize=(10, 8))\n",
    "plt.pie(subcat_count, labels=subcat_count.index, autopct='%1.1f%%', startangle=140, textprops={'fontsize': 8})\n",
    "plt.title(\"Distribution of Subcategories across Categories\", fontsize=16)\n",
    "plt.tight_layout(pad=3)\n",
    "plt.show()"
   ]
  },
  {
   "cell_type": "markdown",
   "metadata": {
    "id": "zlyfbR0rChhN"
   },
   "source": [
    "# Unique categories in train and test data\n",
    "\n",
    "## Some categories and sub categories are unique to test and train data which cannot be classified on evaluation"
   ]
  },
  {
   "cell_type": "code",
   "execution_count": null,
   "metadata": {
    "colab": {
     "base_uri": "https://localhost:8080/"
    },
    "id": "ETyxrD5WACIN",
    "outputId": "9b1db6a1-3809-4d0f-bbf4-fdf0baefd89c"
   },
   "outputs": [
    {
     "name": "stdout",
     "output_type": "stream",
     "text": [
      "Subcategories exclusive to 'train' dataframe:\n",
      "['Against Interest of sovereignty or integrity of India']\n",
      "\n",
      "Subcategories exclusive to 'test' dataframe:\n",
      "['Sexual Harassment', 'Cryptocurrency Crime', 'Online Cyber Trafficking', 'Online and Social Media Related Crime', 'Computer Generated CSAM/CSEM', 'Hacking  Damage to computercomputer system etc', 'Cyber Blackmailing & Threatening', 'Any Other Cyber Crime', 'Online Financial Fraud', 'Cyber Attack/ Dependent Crimes']\n"
     ]
    }
   ],
   "source": [
    "unique_data_subcategories = set(data['sub_category'].unique())\n",
    "unique_test_subcategories = set(test['sub_category'].unique())\n",
    "\n",
    "exclusive_in_data_subcategories = unique_data_subcategories - unique_test_subcategories\n",
    "exclusive_in_test_subcategories = unique_test_subcategories - unique_data_subcategories\n",
    "\n",
    "print(\"Subcategories exclusive to 'train' dataframe:\")\n",
    "print(list(exclusive_in_data_subcategories))\n",
    "print(\"\\nSubcategories exclusive to 'test' dataframe:\")\n",
    "print(list(exclusive_in_test_subcategories))\n"
   ]
  },
  {
   "cell_type": "code",
   "execution_count": null,
   "metadata": {
    "colab": {
     "base_uri": "https://localhost:8080/"
    },
    "id": "t0EY9hVA_6f1",
    "outputId": "5d8ced38-7b42-46e9-d455-8eab7896f446"
   },
   "outputs": [
    {
     "data": {
      "text/plain": [
       "({'Report Unlawful Content'}, {'Crime Against Women & Children'})"
      ]
     },
     "execution_count": 26,
     "metadata": {},
     "output_type": "execute_result"
    }
   ],
   "source": [
    "unique_data_categories = set(data['category'].unique())\n",
    "unique_test_categories = set(test['category'].unique())\n",
    "\n",
    "exclusive_in_data = unique_data_categories - unique_test_categories\n",
    "exclusive_in_test = unique_test_categories - unique_data_categories\n",
    "\n",
    "exclusive_in_data, exclusive_in_test\n"
   ]
  },
  {
   "cell_type": "markdown",
   "metadata": {
    "id": "fQJriXluch5N"
   },
   "source": [
    "## Distribution of character and word counts"
   ]
  },
  {
   "cell_type": "code",
   "execution_count": null,
   "metadata": {
    "colab": {
     "base_uri": "https://localhost:8080/",
     "height": 607
    },
    "id": "-StKXa8Kv_Ki",
    "outputId": "d4803866-3e16-44a1-acaf-04717a7d74b5"
   },
   "outputs": [
    {
     "data": {
      "image/png": "[encoded data removed]",
      "text/plain": [
       "<Figure size 1000x600 with 1 Axes>"
      ]
     },
     "metadata": {},
     "output_type": "display_data"
    }
   ],
   "source": [
    "data['char_count'] = data['text'].str.len()\n",
    "plt.figure(figsize=(10, 6))\n",
    "plt.hist(data['char_count'], bins=30, color='skyblue', edgecolor='black')\n",
    "plt.title(\"Distribution of Number of Characters in 'text' Column\", fontsize=16)\n",
    "plt.xlabel(\"Number of Characters\", fontsize=12)\n",
    "plt.ylabel(\"Frequency\", fontsize=12)\n",
    "plt.grid(axis='y', linestyle='--', alpha=0.7)\n",
    "plt.tight_layout()\n",
    "plt.show()\n"
   ]
  },
  {
   "cell_type": "code",
   "execution_count": null,
   "metadata": {
    "colab": {
     "base_uri": "https://localhost:8080/",
     "height": 607
    },
    "id": "Ab0ANnStwBKF",
    "outputId": "cb0b24ef-440f-4b62-e4c3-e8ac2f790729"
   },
   "outputs": [
    {
     "data": {
      "image/png": "[encoded data removed]",
      "text/plain": [
       "<Figure size 1000x600 with 1 Axes>"
      ]
     },
     "metadata": {},
     "output_type": "display_data"
    }
   ],
   "source": [
    "data['word_count'] = data['text'].apply(lambda x: len(word_tokenize(x)))\n",
    "plt.figure(figsize=(10, 6))\n",
    "plt.hist(data['word_count'], bins=30, color='lightcoral', edgecolor='black')\n",
    "plt.title(\"Distribution of Number of Words in 'text' Column\", fontsize=16)\n",
    "plt.xlabel(\"Number of Words\", fontsize=12)\n",
    "plt.ylabel(\"Frequency\", fontsize=12)\n",
    "plt.grid(axis='y', linestyle='--', alpha=0.7)\n",
    "plt.tight_layout()\n",
    "plt.show()"
   ]
  },
  {
   "cell_type": "markdown",
   "metadata": {
    "id": "N0ckITtyc2mC"
   },
   "source": [
    "## Cleaning under-informed entries\n",
    "From the above distributions it is clear that some complaints have less than ideal information in order to classify it, hence the complaints with less than 4 words have been removed."
   ]
  },
  {
   "cell_type": "code",
   "execution_count": null,
   "metadata": {
    "collapsed": true,
    "id": "95loH9ATwDpn"
   },
   "outputs": [],
   "source": [
    "data = data[data['word_count'] >= 4]\n",
    "stop_words = set(stopwords.words('english'))\n",
    "data['text'] = data['text'].str.lower().apply(lambda x: ' '.join([word for word in word_tokenize(x) if word not in stop_words]))\n",
    "test['text'] = test['text'].str.lower().apply(lambda x: ' '.join([word for word in word_tokenize(x) if word not in stop_words]))"
   ]
  },
  {
   "cell_type": "code",
   "execution_count": null,
   "metadata": {
    "colab": {
     "base_uri": "https://localhost:8080/"
    },
    "id": "1BKBCowEwIfM",
    "outputId": "c4a48aff-6a5f-4c45-c6e9-1313643ef80e"
   },
   "outputs": [
    {
     "data": {
      "text/plain": [
       "26255612"
      ]
     },
     "execution_count": 22,
     "metadata": {},
     "output_type": "execute_result"
    }
   ],
   "source": [
    "# Removing all instances which are not of type string\n",
    "data = data[data['text'].apply(lambda x: isinstance(x, str))]\n",
    "test = test[test['text'].apply(lambda x: isinstance(x, str))]\n",
    "total_char_count = data['text'].str.len().sum()\n",
    "total_char_count"
   ]
  },
  {
   "cell_type": "markdown",
   "metadata": {
    "id": "_cuZpbTbeB2o"
   },
   "source": [
    "## Text cleaning and normalization\n",
    "Input text is converted to lowercase, punctuation, digits, URLs, and newline characters are removed. The text is tokenized, stopwords (except \"not\") are removed, and the remaining words are lemmatized.\n",
    "\n"
   ]
  },
  {
   "cell_type": "code",
   "execution_count": null,
   "metadata": {
    "id": "bnpmJl3twSHa"
   },
   "outputs": [],
   "source": [
    "def Text_Cleaning(Text):\n",
    "  Text = Text.lower()\n",
    "  punc = str.maketrans(string.punctuation, ' '*len(string.punctuation))\n",
    "  Text = Text.translate(punc)\n",
    "  Text = re.sub(r'\\d+', '', Text)\n",
    "  Text = re.sub('https?://\\S+|www\\.\\S+', '', Text)\n",
    "  Text = re.sub('\\n', '', Text)\n",
    "  return Text\n",
    "Stopwords = set(nltk.corpus.stopwords.words(\"english\")) - set([\"not\"])\n",
    "\n",
    "def Text_Processing(Text):\n",
    "    Processed_Text = list()\n",
    "    Lemmatizer = WordNetLemmatizer()\n",
    "    Tokens = nltk.word_tokenize(Text)\n",
    "\n",
    "    for word in Tokens:\n",
    "        if word not in Stopwords:\n",
    "            Processed_Text.append(Lemmatizer.lemmatize(word))\n",
    "\n",
    "    return \" \".join(Processed_Text)"
   ]
  },
  {
   "cell_type": "code",
   "execution_count": null,
   "metadata": {
    "id": "TIHy2JXMwWsV"
   },
   "outputs": [],
   "source": [
    "data[\"text\"] = data[\"text\"].apply(lambda Text: Text_Cleaning(Text))\n",
    "test[\"text\"] = test[\"text\"].apply(lambda Text: Text_Cleaning(Text))\n",
    "data[\"text\"] = data[\"text\"].apply(lambda Text: Text_Processing(Text))\n",
    "test[\"text\"] = test[\"text\"].apply(lambda Text: Text_Processing(Text))"
   ]
  },
  {
   "cell_type": "code",
   "execution_count": null,
   "metadata": {
    "colab": {
     "base_uri": "https://localhost:8080/"
    },
    "id": "jaecT-GTwaA_",
    "outputId": "97e04b7a-2818-48ce-c08f-a4f748e4e00e"
   },
   "outputs": [
    {
     "data": {
      "text/plain": [
       "23682856"
      ]
     },
     "execution_count": 29,
     "metadata": {},
     "output_type": "execute_result"
    }
   ],
   "source": [
    "total_char_count = data['text'].str.len().sum()\n",
    "total_char_count"
   ]
  },
  {
   "cell_type": "markdown",
   "metadata": {
    "id": "5wiY45vlfTMQ"
   },
   "source": [
    "## For further processing stemming is applied to normalize the lemmatized text"
   ]
  },
  {
   "cell_type": "code",
   "execution_count": null,
   "metadata": {
    "id": "0IRFeNwswcVh"
   },
   "outputs": [],
   "source": [
    "stemmer = PorterStemmer()\n",
    "data['text'] = data['text'].apply(lambda x: ' '.join([stemmer.stem(word) for word in nltk.word_tokenize(x)]))\n",
    "test['text'] = test['text'].apply(lambda x: ' '.join([stemmer.stem(word) for word in nltk.word_tokenize(x)]))"
   ]
  },
  {
   "cell_type": "code",
   "execution_count": null,
   "metadata": {
    "id": "skr24h8ew0qL"
   },
   "outputs": [],
   "source": [
    "data.to_csv('stemmed_text.csv', index=False)\n",
    "test.to_csv('stemmed_test.csv', index=False)"
   ]
  },
  {
   "cell_type": "code",
   "execution_count": null,
   "metadata": {
    "id": "MTyrHB2rbJqW"
   },
   "outputs": [],
   "source": [
    "data=pd.read_csv(\"/content/stemmed_text.csv\")\n",
    "test= pd.read_csv(\"/content/stemmed_test.csv\")\n",
    "data = data[data['text'].apply(lambda x: isinstance(x, str))]\n",
    "test = test[test['text'].apply(lambda x: isinstance(x, str))]"
   ]
  },
  {
   "cell_type": "markdown",
   "metadata": {
    "id": "OJPmRkCqEv75"
   },
   "source": [
    "## Creating label encoder and decoder"
   ]
  },
  {
   "cell_type": "code",
   "execution_count": null,
   "metadata": {
    "colab": {
     "base_uri": "https://localhost:8080/"
    },
    "id": "zlRAu8hgEu61",
    "outputId": "805cc12d-7427-4eee-eddc-2359e49a4556"
   },
   "outputs": [
    {
     "name": "stdout",
     "output_type": "stream",
     "text": [
      "Child Pornography CPChild Sexual Abuse Material CSAM\n"
     ]
    }
   ],
   "source": [
    "le = LabelEncoder()\n",
    "y = le.fit_transform(data['sub_category'])\n",
    "\n",
    "def decode_sub_category(encoded_value):\n",
    "    return le.inverse_transform([encoded_value])[0]\n",
    "print(decode_sub_category(3))"
   ]
  },
  {
   "cell_type": "code",
   "execution_count": null,
   "metadata": {
    "colab": {
     "base_uri": "https://localhost:8080/"
    },
    "id": "fzxRhJraMDQr",
    "outputId": "fefe2e01-3bdb-459c-dff7-9a6b11acdb63"
   },
   "outputs": [
    {
     "data": {
      "text/plain": [
       "39"
      ]
     },
     "execution_count": 32,
     "metadata": {},
     "output_type": "execute_result"
    }
   ],
   "source": [
    "N_CLASS=y.max()+1 # number of sub_categories present in data\n",
    "N_CLASS"
   ]
  },
  {
   "cell_type": "markdown",
   "metadata": {
    "id": "FS-7dzf1fg8J"
   },
   "source": [
    "# Word embedding\n",
    "\n",
    "Bag of Words and TFIDF(Term Frequency-Inverse Document Frequency) has been applied"
   ]
  },
  {
   "cell_type": "code",
   "execution_count": null,
   "metadata": {
    "colab": {
     "base_uri": "https://localhost:8080/"
    },
    "id": "R-jZ3gdMFnK6",
    "outputId": "5888ce70-5027-43ef-ed48-3528ed55d404"
   },
   "outputs": [
    {
     "data": {
      "text/plain": [
       "['bow_test_embeddings.pkl']"
      ]
     },
     "execution_count": 5,
     "metadata": {},
     "output_type": "execute_result"
    }
   ],
   "source": [
    "from sklearn.feature_extraction.text import TfidfVectorizer, CountVectorizer\n",
    "import joblib\n",
    "tfidf_vectorizer = TfidfVectorizer(max_features=5000, ngram_range=(2, 2))\n",
    "bow_vectorizer = CountVectorizer(max_features=5000, ngram_range=(2, 2))\n",
    "#Creating tfidf vectors for train and test data\n",
    "\n",
    "tfidf_data = tfidf_vectorizer.fit_transform(data['text'])\n",
    "bow_data = bow_vectorizer.fit_transform(data['text'])\n",
    "\n",
    "tfidf_test = tfidf_vectorizer.transform(test['text'])\n",
    "bow_test = bow_vectorizer.transform(test['text'])\n",
    "\n",
    "joblib.dump(tfidf_data, 'tfidf_data_embeddings.pkl')\n",
    "joblib.dump(bow_data, 'bow_data_embeddings.pkl')\n",
    "joblib.dump(tfidf_test, 'tfidf_test_embeddings.pkl')\n",
    "joblib.dump(bow_test, 'bow_test_embeddings.pkl')"
   ]
  },
  {
   "cell_type": "markdown",
   "metadata": {
    "id": "VuTmlyjVKr5x"
   },
   "source": [
    "## Model Creation and evaluation"
   ]
  },
  {
   "cell_type": "markdown",
   "metadata": {
    "id": "-XeWl4e4ti5x"
   },
   "source": [
    "### Due to the loss of semantic information in vectorization techniques such as TFIDF or Bag of Words, common ML models are used to classify the data"
   ]
  },
  {
   "cell_type": "code",
   "execution_count": null,
   "metadata": {
    "id": "DJAeDP_NIAhJ"
   },
   "outputs": [],
   "source": [
    "from sklearn.naive_bayes import MultinomialNB\n",
    "from sklearn.svm import SVC\n",
    "from xgboost import XGBClassifier\n",
    "from sklearn.ensemble import RandomForestClassifier"
   ]
  },
  {
   "cell_type": "markdown",
   "metadata": {
    "id": "NKzr9dAbt-Et"
   },
   "source": [
    "Multinomial Naive Bayes classifier"
   ]
  },
  {
   "cell_type": "code",
   "execution_count": null,
   "metadata": {
    "id": "pEUBlKkAGniS"
   },
   "outputs": [],
   "source": [
    "nb_tfidf = MultinomialNB().fit(tfidf_data, y)\n",
    "nb_bow = MultinomialNB().fit(bow_data, y)"
   ]
  },
  {
   "cell_type": "code",
   "execution_count": null,
   "metadata": {
    "id": "7O4tMlPYIQ0K"
   },
   "outputs": [],
   "source": [
    "nb_tfidf_predictions = nb_tfidf.predict(tfidf_test)\n",
    "nb_bow_predictions = nb_bow.predict(bow_test)"
   ]
  },
  {
   "cell_type": "markdown",
   "metadata": {
    "id": "MRDt5mXxt7aR"
   },
   "source": [
    "Random Forest classifier"
   ]
  },
  {
   "cell_type": "code",
   "execution_count": null,
   "metadata": {
    "id": "ueHVoOZbM6b2"
   },
   "outputs": [],
   "source": [
    "rf_tfidf = RandomForestClassifier().fit(tfidf_data, y)\n",
    "rf_bow = RandomForestClassifier().fit(bow_data, y)"
   ]
  },
  {
   "cell_type": "code",
   "execution_count": null,
   "metadata": {
    "id": "V9whROK-N0By"
   },
   "outputs": [],
   "source": [
    "rf_tfidf_predictions = rf_tfidf.predict(tfidf_test)\n",
    "rf_bow_predictions = rf_bow.predict(bow_test)"
   ]
  },
  {
   "cell_type": "markdown",
   "metadata": {
    "id": "ckU6QbIxKzZS"
   },
   "source": [
    "### Function for evaluating model performance\n",
    "The model performance is evaluated on basis of subcategory and category classification in the following way:\n",
    "\n",
    "\n",
    "1.   Decode the predicted labels to find predicted subcategories\n",
    "2.   Evaluate by comparing to subcategory entries in test dataset\n",
    "3.   Map the predicted subcategory to its original category\n",
    "4.   Evaluate by comparing to category entries in test dataset\n",
    "\n",
    "\n",
    "\n"
   ]
  },
  {
   "cell_type": "code",
   "execution_count": null,
   "metadata": {
    "id": "CHH_yfbbJAMg"
   },
   "outputs": [],
   "source": [
    "def evaluate_predictions(label_encoded_predictions, test_data, sub_to_category_map):\n",
    "    decoded_sub_categories = [decode_sub_category(pred) for pred in label_encoded_predictions]\n",
    "\n",
    "    sub_category_matches = [pred == actual for pred, actual in zip(decoded_sub_categories, test_data['sub_category'])]\n",
    "    sub_category_accuracy = sum(sub_category_matches) / len(sub_category_matches)\n",
    "\n",
    "    predicted_categories = [sub_to_category_map[sub] for sub in decoded_sub_categories] # Retrieve category from mapping\n",
    "    category_matches = [pred == actual for pred, actual in zip(predicted_categories, test_data['category'])]\n",
    "    category_accuracy = sum(category_matches) / len(category_matches)\n",
    "\n",
    "    return sub_category_accuracy, category_accuracy"
   ]
  },
  {
   "cell_type": "code",
   "execution_count": null,
   "metadata": {
    "colab": {
     "base_uri": "https://localhost:8080/"
    },
    "id": "juvzZhZkMNev",
    "outputId": "4401614b-967f-4550-e2bf-f5c761b59aa6"
   },
   "outputs": [
    {
     "name": "stdout",
     "output_type": "stream",
     "text": [
      "NB TF-IDF - Subcategory Accuracy: 0.4598196912699442\n",
      "NB TF-IDF - Category Accuracy: 0.6914969516149955\n",
      "NB BOW - Subcategory Accuracy: 0.41552081982098843\n",
      "NB BOW - Category Accuracy: 0.6842975742638474\n"
     ]
    }
   ],
   "source": [
    "nb_tfidf_subcat_acc, nb_tfidf_cat_acc = evaluate_predictions(nb_tfidf_predictions, test, mapping)\n",
    "nb_bow_subcat_acc, nb_bow_cat_acc = evaluate_predictions(nb_bow_predictions, test, mapping)\n",
    "print(\"NB TF-IDF - Subcategory Accuracy:\", nb_tfidf_subcat_acc)\n",
    "print(\"NB TF-IDF - Category Accuracy:\", nb_tfidf_cat_acc)\n",
    "print(\"NB BOW - Subcategory Accuracy:\", nb_bow_subcat_acc)\n",
    "print(\"NB BOW - Category Accuracy:\", nb_bow_cat_acc)"
   ]
  },
  {
   "cell_type": "code",
   "execution_count": null,
   "metadata": {
    "colab": {
     "base_uri": "https://localhost:8080/"
    },
    "id": "Xx5SZgXzN1Rk",
    "outputId": "5d7b019b-98cd-4592-ff7a-be267217acec"
   },
   "outputs": [
    {
     "name": "stdout",
     "output_type": "stream",
     "text": [
      "RF TF-IDF - Subcategory Accuracy: 0.4863146971072772\n",
      "RF TF-IDF - Category Accuracy: 0.7228239719808016\n",
      "RF BOW - Subcategory Accuracy: 0.4790504605007134\n",
      "RF BOW - Category Accuracy: 0.718089246335452\n"
     ]
    }
   ],
   "source": [
    "rf_tfidf_subcat_acc, rf_tfidf_cat_acc = evaluate_predictions(rf_tfidf_predictions, test, mapping)\n",
    "rf_bow_subcat_acc, rf_bow_cat_acc = evaluate_predictions(rf_bow_predictions, test, mapping)\n",
    "\n",
    "print(\"RF TF-IDF - Subcategory Accuracy:\", rf_tfidf_subcat_acc)\n",
    "print(\"RF TF-IDF - Category Accuracy:\", rf_tfidf_cat_acc)\n",
    "print(\"RF BOW - Subcategory Accuracy:\", rf_bow_subcat_acc)\n",
    "print(\"RF BOW - Category Accuracy:\", rf_bow_cat_acc)"
   ]
  },
  {
   "cell_type": "markdown",
   "metadata": {
    "id": "sA8Frm2YuG0i"
   },
   "source": [
    "## Polynomial Support Vector Machine"
   ]
  },
  {
   "cell_type": "code",
   "execution_count": null,
   "metadata": {
    "id": "kzEDF6hMRs2m"
   },
   "outputs": [],
   "source": [
    "# SVC Polynomial Kernel\n",
    "svc_poly = SVC(kernel='poly', probability=True)\n",
    "svc_poly.fit(tfidf_data, y)\n",
    "svc_poly_tfidf_predictions = svc_poly.predict(tfidf_test)\n",
    "\n",
    "svc_poly.fit(bow_data, y)\n",
    "svc_poly_bow_predictions = svc_poly.predict(bow_test)\n",
    "\n",
    "svc_poly_tfidf_subcat_acc, svc_poly_tfidf_cat_acc = evaluate_predictions(svc_poly_tfidf_predictions, test, mapping)\n",
    "svc_poly_bow_subcat_acc, svc_poly_bow_cat_acc = evaluate_predictions(svc_poly_bow_predictions, test, mapping)\n",
    "\n",
    "print(\"SVC Polynomial TF-IDF - Subcategory Accuracy:\", svc_poly_tfidf_subcat_acc)\n",
    "print(\"SVC Polynomial TF-IDF - Category Accuracy:\", svc_poly_tfidf_cat_acc)\n",
    "print(\"SVC Polynomial BOW - Subcategory Accuracy:\", svc_poly_bow_subcat_acc)\n",
    "print(\"SVC Polynomial BOW - Category Accuracy:\", svc_poly_bow_cat_acc)\n"
   ]
  },
  {
   "cell_type": "markdown",
   "metadata": {
    "id": "vnSTaoIAuMw9"
   },
   "source": [
    "## Radial Basis function kernel SVM"
   ]
  },
  {
   "cell_type": "code",
   "execution_count": null,
   "metadata": {
    "id": "E9l0EDBxS-Nt"
   },
   "outputs": [],
   "source": [
    "# SVC RBF Kernel\n",
    "svc_rbf = SVC(kernel='rbf', probability=True)\n",
    "svc_rbf.fit(tfidf_data, y)\n",
    "svc_rbf_tfidf_predictions = svc_rbf.predict(tfidf_test)\n",
    "\n",
    "svc_rbf.fit(bow_data, y)\n",
    "svc_rbf_bow_predictions = svc_rbf.predict(bow_test)\n",
    "\n",
    "svc_rbf_tfidf_subcat_acc, svc_rbf_tfidf_cat_acc = evaluate_predictions(svc_rbf_tfidf_predictions, test, mapping)\n",
    "svc_rbf_bow_subcat_acc, svc_rbf_bow_cat_acc = evaluate_predictions(svc_rbf_bow_predictions, test, mapping)\n",
    "\n",
    "print(\"SVC RBF TF-IDF - Subcategory Accuracy:\", svc_rbf_tfidf_subcat_acc)\n",
    "print(\"SVC RBF TF-IDF - Category Accuracy:\", svc_rbf_tfidf_cat_acc)\n",
    "print(\"SVC RBF BOW - Subcategory Accuracy:\", svc_rbf_bow_subcat_acc)\n",
    "print(\"SVC RBF BOW - Category Accuracy:\", svc_rbf_bow_cat_acc)\n"
   ]
  },
  {
   "cell_type": "markdown",
   "metadata": {
    "id": "ure2TBDsuQs6"
   },
   "source": [
    "## Gradient Boosting classifier"
   ]
  },
  {
   "cell_type": "code",
   "execution_count": null,
   "metadata": {
    "id": "nawFRp54TBAW"
   },
   "outputs": [],
   "source": [
    "# XGBoost\n",
    "xgb_model = XGBClassifier(use_label_encoder=False, eval_metric='mlogloss')\n",
    "xgb_model.fit(tfidf_data, y)\n",
    "xgb_tfidf_predictions = xgb_model.predict(tfidf_test)\n",
    "\n",
    "xgb_model.fit(bow_data, y)\n",
    "xgb_bow_predictions = xgb_model.predict(bow_test)\n",
    "\n",
    "xgb_tfidf_subcat_acc, xgb_tfidf_cat_acc = evaluate_predictions(xgb_tfidf_predictions, test, mapping)\n",
    "xgb_bow_subcat_acc, xgb_bow_cat_acc = evaluate_predictions(xgb_bow_predictions, test, mapping)\n",
    "\n",
    "print(\"XGBoost TF-IDF - Subcategory Accuracy:\", xgb_tfidf_subcat_acc)\n",
    "print(\"XGBoost TF-IDF - Category Accuracy:\", xgb_tfidf_cat_acc)\n",
    "print(\"XGBoost BOW - Subcategory Accuracy:\", xgb_bow_subcat_acc)\n",
    "print(\"XGBoost BOW - Category Accuracy:\", xgb_bow_cat_acc)\n"
   ]
  },
  {
   "cell_type": "markdown",
   "metadata": {
    "id": "dT7HnN64uUi-"
   },
   "source": [
    "# Overall classification metrics"
   ]
  },
  {
   "cell_type": "code",
   "execution_count": null,
   "metadata": {
    "colab": {
     "base_uri": "https://localhost:8080/"
    },
    "id": "wdxmc9rH1Boh",
    "outputId": "fd0f5544-8d24-49d1-87bd-9414106bb2ef"
   },
   "outputs": [
    {
     "name": "stdout",
     "output_type": "stream",
     "text": [
      "Child Pornography CPChild Sexual Abuse Material CSAM\n"
     ]
    }
   ],
   "source": [
    "import warnings\n",
    "warnings.filterwarnings(\"ignore\", category=UserWarning)\n",
    "le = LabelEncoder()\n",
    "y = le.fit_transform(data['sub_category'])\n",
    "\n",
    "def decode_sub_category(encoded_value):\n",
    "    return le.inverse_transform([encoded_value])[0]\n",
    "def classification_metrics(label_encoded_predictions, test_data, sub_to_category_map):\n",
    "    decoded_sub_categories = [decode_sub_category(pred) for pred in label_encoded_predictions]\n",
    "    combined_sub_labels = np.concatenate((decoded_sub_categories, test_data['sub_category']))\n",
    "    le_sub_combined = LabelEncoder().fit(combined_sub_labels) # New encoder for the extra classes in test data\n",
    "\n",
    "    encoded_decoded_sub_categories = le_sub_combined.transform(decoded_sub_categories)\n",
    "    encoded_test_sub_categories = le_sub_combined.transform(test_data['sub_category'])\n",
    "\n",
    "    sub_category_accuracy = accuracy_score(encoded_test_sub_categories, encoded_decoded_sub_categories)\n",
    "    sub_category_f1 = f1_score(encoded_test_sub_categories, encoded_decoded_sub_categories, average='weighted', zero_division=0)\n",
    "    sub_category_precision = precision_score(encoded_test_sub_categories, encoded_decoded_sub_categories, average='weighted', zero_division=0)\n",
    "    sub_category_recall = recall_score(encoded_test_sub_categories, encoded_decoded_sub_categories, average='weighted', zero_division=0)\n",
    "\n",
    "    print(\"Subcategory Metrics:\")\n",
    "    print(f\"Accuracy: {sub_category_accuracy}\")\n",
    "    print(f\"F1 Score: {sub_category_f1}\")\n",
    "    print(f\"Precision: {sub_category_precision}\")\n",
    "    print(f\"Recall: {sub_category_recall}\")\n",
    "\n",
    "    predicted_categories = [sub_to_category_map[sub] for sub in decoded_sub_categories]\n",
    "    combined_cat_labels = np.concatenate((predicted_categories, test_data['category']))\n",
    "    le_cat_combined = LabelEncoder().fit(combined_cat_labels)\n",
    "\n",
    "    encoded_predicted_categories = le_cat_combined.transform(predicted_categories)\n",
    "    encoded_test_categories = le_cat_combined.transform(test_data['category'])\n",
    "\n",
    "    category_accuracy = accuracy_score(encoded_test_categories, encoded_predicted_categories)\n",
    "    category_f1 = f1_score(encoded_test_categories, encoded_predicted_categories, average='weighted', zero_division=0)\n",
    "    category_precision = precision_score(encoded_test_categories, encoded_predicted_categories, average='weighted', zero_division=0)\n",
    "    category_recall = recall_score(encoded_test_categories, encoded_predicted_categories, average='weighted', zero_division=0)\n",
    "\n",
    "    print(\"\\nCategory Metrics:\")\n",
    "    print(f\"Accuracy: {category_accuracy}\")\n",
    "    print(f\"F1 Score: {category_f1}\")\n",
    "    print(f\"Precision: {category_precision}\")\n",
    "    print(f\"Recall: {category_recall}\")\n",
    "\n",
    "\n",
    "\n"
   ]
  },
  {
   "cell_type": "code",
   "execution_count": null,
   "metadata": {
    "id": "nD0KjFo2--CA"
   },
   "outputs": [],
   "source": [
    "print('Naive Bayes tfidf metrics')\n",
    "classification_metrics(nb_tfidf_predictions, test, mapping)\n",
    "\n",
    "print('\\nNaive Bayes BoW metrics')\n",
    "classification_metrics(nb_bow_predictions, test, mapping)\n",
    "\n",
    "print('\\nRandom Forest tfidf metrics')\n",
    "classification_metrics(rf_tfidf_predictions, test, mapping)\n",
    "\n",
    "print('\\nRandom Forest BoW metrics')\n",
    "classification_metrics(rf_bow_predictions, test, mapping)\n",
    "\n",
    "print('\\nSVC Polynomial tfidf metrics')\n",
    "classification_metrics(svc_poly_tfidf_predictions, test, mapping)\n",
    "\n",
    "print('\\nSVC Polynomial BoW metrics')\n",
    "classification_metrics(svc_poly_bow_predictions, test, mapping)\n",
    "\n",
    "print('\\nSVC RBF tfidf metrics')\n",
    "classification_metrics(svc_rbf_tfidf_predictions, test, mapping)\n",
    "\n",
    "print('\\nSVC RBF BoW metrics')\n",
    "classification_metrics(svc_rbf_bow_predictions, test, mapping)\n",
    "\n",
    "print('\\nXGBoost tfidf metrics')\n",
    "classification_metrics(xgb_tfidf_predictions, test, mapping)\n",
    "\n",
    "print('\\nXGBoost BoW metrics')\n",
    "classification_metrics(xgb_bow_predictions, test, mapping)"
   ]
  },
  {
   "cell_type": "markdown",
   "metadata": {},
   "source": [
    "## Importing necessary DistilBERT libraries"
   ]
  },
  {
   "cell_type": "code",
   "execution_count": null,
   "metadata": {},
   "outputs": [],
   "source": [
    "import torch\n",
    "from tqdm.auto import tqdm\n",
    "import torch.nn as nn\n",
    "import torch.optim as optim\n",
    "from transformers import DistilBertTokenizer, DistilBertModel as DistilBert"
   ]
  },
  {
   "cell_type": "code",
   "execution_count": null,
   "metadata": {},
   "outputs": [],
   "source": [
    "data= pd.read_csv('stemmed_train.csv')"
   ]
  },
  {
   "cell_type": "markdown",
   "metadata": {},
   "source": [
    "## Preparing the tokenizer"
   ]
  },
  {
   "cell_type": "code",
   "execution_count": null,
   "metadata": {},
   "outputs": [],
   "source": [
    "tokenizer=DistilBertTokenizer.from_pretrained('distilbert-base-uncased')"
   ]
  },
  {
   "cell_type": "markdown",
   "metadata": {},
   "source": [
    "## Encoding on input text"
   ]
  },
  {
   "cell_type": "code",
   "execution_count": null,
   "metadata": {},
   "outputs": [],
   "source": [
    "encodings=tokenizer.batch_encode_plus(\n",
    "    data['text'].astype(str).tolist(),\n",
    "    padding=True,\n",
    "    truncation=True,\n",
    "    return_tensors='pt'\n",
    ")"
   ]
  },
  {
   "cell_type": "code",
   "execution_count": null,
   "metadata": {},
   "outputs": [],
   "source": [
    "encodings.input_ids"
   ]
  },
  {
   "cell_type": "code",
   "execution_count": null,
   "metadata": {},
   "outputs": [],
   "source": [
    "import torch\n",
    "from tqdm.auto import tqdm\n",
    "import torch.nn as nn\n",
    "import torch.optim as optim\n",
    "from transformers import DistilBertTokenizer, DistilBertModel as DistilBert\n",
    "from sklearn.preprocessing import LabelEncoder  # Import LabelEncoder\n",
    "\n",
    "\n",
    "class TextDataset():\n",
    "    def __init__(self, texts, labels, tokenizer, max_len):\n",
    "        self.texts = texts\n",
    "        self.labels = labels\n",
    "        self.tokenizer = tokenizer\n",
    "        self.max_len = max_len\n",
    "        self.label_encoder = LabelEncoder()  # Initialize LabelEncoder\n",
    "        self.label_encoder.fit(self.labels)  # Fit LabelEncoder to your labels\n",
    "\n",
    "    def __len__(self):\n",
    "        return len(self.texts)\n",
    "\n",
    "    def __getitem__(self, idx):\n",
    "        # Tokenize the text\n",
    "        encoding = self.tokenizer.encode_plus(\n",
    "            self.texts[idx],  # Access text using idx\n",
    "            max_length=self.max_len,\n",
    "            add_special_tokens=True,\n",
    "            padding='max_length',\n",
    "            truncation=True,\n",
    "            return_tensors=\"pt\"\n",
    "        )\n",
    "\n",
    "        # Encode the label using label_encoder\n",
    "        label = self.label_encoder.transform([self.labels[idx]])[0]\n",
    "\n",
    "        return {\n",
    "            'input_ids': encoding['input_ids'].flatten(),\n",
    "            'attention_mask': encoding['attention_mask'].flatten(),\n",
    "            'labels': torch.tensor(label, dtype=torch.long)\n",
    "        }\n",
    "\n",
    "# Initialize DistilBERT tokenizer\n",
    "tokenizer = DistilBertTokenizer.from_pretrained('distilbert-base-uncased')\n",
    "max_len = 128  # Adjust based on your dataset\n",
    "\n",
    "# Create Dataset instances\n",
    "train_dataset = TextDataset(data['text'].tolist(), data['sub_category'].tolist(), tokenizer, max_len)"
   ]
  },
  {
   "cell_type": "code",
   "execution_count": null,
   "metadata": {},
   "outputs": [],
   "source": [
    "data['sub_category']"
   ]
  },
  {
   "cell_type": "markdown",
   "metadata": {},
   "source": [
    "## Label encoding"
   ]
  },
  {
   "cell_type": "code",
   "execution_count": null,
   "metadata": {},
   "outputs": [],
   "source": [
    "label_encoder = LabelEncoder()\n",
    "label_encoder.fit(data['sub_category'])\n",
    "train_dataset.label_encoder = label_encoder"
   ]
  },
  {
   "cell_type": "markdown",
   "metadata": {},
   "source": [
    "## DistilBERT Model Training and Fine-tuning"
   ]
  },
  {
   "cell_type": "code",
   "execution_count": null,
   "metadata": {},
   "outputs": [],
   "source": [
    "from datasets import Dataset\n",
    "from sklearn.preprocessing import LabelEncoder\n",
    "from transformers import DistilBertTokenizer, DistilBertForSequenceClassification, TrainingArguments, Trainer\n",
    "\n",
    "# Converting the pandas DataFrame to a Hugging Face Dataset\n",
    "data['text'] = data['text'].astype(str)\n",
    "train_dataset = Dataset.from_dict(data)\n",
    "\n",
    "# Initializing the label encoder and fitting it to the 'sub_category' column\n",
    "label_encoder = LabelEncoder()\n",
    "label_encoder.fit(data['sub_category'])\n",
    "\n",
    "# Defining a function to apply label encoding to the 'sub_category' column\n",
    "def label_encode(examples):\n",
    "    examples['labels'] = label_encoder.transform(examples['sub_category'])\n",
    "    return examples\n",
    "\n",
    "# Preprocessing function - CHANGED: Now uses 'text' instead of 'description'\n",
    "def preprocess_function(examples):\n",
    "    return tokenizer(examples['text'], padding=\"max_length\", truncation=True)\n",
    "\n",
    "\n",
    "# Applying label encoding to the dataset\n",
    "train_dataset = train_dataset.map(label_encode, batched=True)\n",
    "\n",
    "# Applying preprocessing to the dataset\n",
    "train_dataset = train_dataset.map(preprocess_function, batched=True)\n",
    "\n",
    "# Selecting the desired columns for training - CHANGED: Kept 'text' and removed unnecessary columns\n",
    "train_dataset = train_dataset.remove_columns(['sub_category'])  # adjust other columns to remove as needed\n",
    "\n",
    "# set format for the Trainer\n",
    "train_dataset.set_format(type='torch', columns=['input_ids', 'attention_mask', 'labels'])\n",
    "\n",
    "# Loading pre-trained DistilBERT model for sequence classification\n",
    "model = DistilBertForSequenceClassification.from_pretrained('distilbert-base-uncased', num_labels=len(label_encoder.classes_))\n",
    "\n",
    "# Defining training arguments\n",
    "training_args = TrainingArguments(\n",
    "    output_dir='./results',\n",
    "    num_train_epochs=3,\n",
    "    per_device_train_batch_size=16,\n",
    "    per_device_eval_batch_size=16,\n",
    "    warmup_steps=500,\n",
    "    weight_decay=0.01,\n",
    "    logging_dir='./logs',\n",
    "    logging_steps=10,\n",
    "    evaluation_strategy=\"no\"\n",
    ")\n",
    "\n",
    "# Initializing Trainer\n",
    "trainer = Trainer(\n",
    "    model=model,\n",
    "    args=training_args,\n",
    "    train_dataset=train_dataset,\n",
    ")\n",
    "\n",
    "# Training the model\n",
    "trainer.train()"
   ]
  },
  {
   "cell_type": "markdown",
   "metadata": {},
   "source": [
    "## Save model and tokenizer in a speecified Directory "
   ]
  },
  {
   "cell_type": "code",
   "execution_count": null,
   "metadata": {},
   "outputs": [],
   "source": [
    "model.save_pretrained(\"model_directory\")\n",
    "tokenizer.save_pretrained(\"model_directory\")\n"
   ]
  },
  {
   "cell_type": "markdown",
   "metadata": {},
   "source": [
    "## Load pre-trained model"
   ]
  },
  {
   "cell_type": "code",
   "execution_count": null,
   "metadata": {},
   "outputs": [],
   "source": [
    "from transformers import DistilBertForSequenceClassification, DistilBertTokenizer\n",
    "\n",
    "model = DistilBertForSequenceClassification.from_pretrained(\"./drive/MyDrive/model_directory\")\n",
    "tokenizer = DistilBertTokenizer.from_pretrained(\"./drive/MyDrive/model_directory\")"
   ]
  },
  {
   "cell_type": "markdown",
   "metadata": {},
   "source": [
    "## Mapping sub-categories with their corresponding categories"
   ]
  },
  {
   "cell_type": "code",
   "execution_count": null,
   "metadata": {},
   "outputs": [],
   "source": [
    "import csv\n",
    "\n",
    "def create_category_map(csv_file_path):\n",
    "    category_map = {}\n",
    "    with open('/content/train.csv', mode='r',encoding='latin-1') as file:\n",
    "        reader = csv.DictReader(file)\n",
    "\n",
    "        for row in reader:\n",
    "            category = row['category']\n",
    "            sub_category = row['sub_category']\n",
    "            category_map[sub_category] = category\n",
    "\n",
    "    return category_map\n",
    "\n",
    "def get_category_by_sub_category(sub_category, category_map):\n",
    "    return category_map.get(sub_category, \"Sub-category not found\")"
   ]
  },
  {
   "cell_type": "code",
   "execution_count": null,
   "metadata": {},
   "outputs": [],
   "source": [
    "import torch\n",
    "\n",
    "def predict(text):\n",
    "    # Move inputs to the same device as the model\n",
    "    device = next(model.parameters()).device  # Get the model's device\n",
    "    inputs = tokenizer(text, return_tensors=\"pt\", truncation=True, padding=True, max_length=128).to(device)\n",
    "\n",
    "    outputs = model(**inputs)\n",
    "    probs = outputs.logits.softmax(dim=1)\n",
    "    predicted_class = label_encoder.inverse_transform([probs.argmax().item()])\n",
    "    return predicted_class\n",
    "\n",
    "# Example\n",
    "text=\"The website name is accelsharecom who is providing financial plan with sort term investment in different different products like shared scooter valkswagen production line tax refund equipment accel exclusive equipment and so on with different price of Rs  Rs  Rs  with time frame of days days and so on and giving return of Rs  Rs  Rs every day for days  days like this But when we try to contact them the site was not opening and when we try to contact them through phone no the no is not reacheable\"\n",
    "prediction = predict(text)\n",
    "print(\"Predicted subcategory:\", prediction)\n",
    "# Test with a specific sub_category\n",
    "category_map=create_category_map('/content/train.csv')\n",
    "sub_category_to_lookup = prediction[0]\n",
    "category = get_category_by_sub_category(sub_category_to_lookup, category_map)\n",
    "print(f\"Category for sub-category '{sub_category_to_lookup}': {category}\")"
   ]
  },
  {
   "cell_type": "markdown",
   "metadata": {},
   "source": [
    "## Load pre-processed test data"
   ]
  },
  {
   "cell_type": "code",
   "execution_count": null,
   "metadata": {},
   "outputs": [],
   "source": [
    "test_data = pd.read_csv('stemmed_test.csv', encoding='latin-1')"
   ]
  },
  {
   "cell_type": "code",
   "execution_count": null,
   "metadata": {},
   "outputs": [],
   "source": [
    "# Converting the test pandas DataFrame to a Hugging Face Dataset\n",
    "test_data['text'] = test_data['text'].astype(str)\n",
    "test_data['sub_category'] = test_data['sub_category'].astype(str)\n",
    "\n",
    "# Creating Dataset from test data\n",
    "def safe_cast_to_string(value):\n",
    "    \"\"\"Attempts to safely cast a value to string, handling potential float values.\"\"\"\n",
    "    try:\n",
    "        # If the value is a float with no decimal part, converting it to an integer first\n",
    "        if isinstance(value, float) and value.is_integer():\n",
    "            value = int(value)\n",
    "        return str(value)\n",
    "    except (TypeError, ValueError):\n",
    "        # If casting fails, returning an empty string or a placeholder\n",
    "        return ''  # or \"NaN\" or any other suitable placeholder\n",
    "\n",
    "\n",
    "# Applying the safe_cast_to_string function to all columns of type 'object' (which usually includes strings)\n",
    "for col in test_data.select_dtypes(include=['object']).columns:\n",
    "    test_data[col] = test_data[col].apply(safe_cast_to_string)\n",
    "\n",
    "label_encoder = LabelEncoder()\n",
    "label_encoder.fit(test_data['sub_category'])\n",
    "\n",
    "# Defining the label_encode function to use with .map\n",
    "def label_encode(examples):\n",
    "    examples['labels'] = label_encoder.transform(examples['sub_category'])\n",
    "    return examples\n",
    "\n",
    "test_dataset = Dataset.from_dict(test_data)\n",
    "\n",
    "# Applying label encoding to the 'sub_category' column in the test dataset\n",
    "test_dataset = test_dataset.map(label_encode, batched=True)\n",
    "\n",
    "# Applying the same preprocessing to the test dataset\n",
    "def preprocess_function(examples):\n",
    "    return tokenizer(examples['text'], padding=\"max_length\", truncation=True)\n",
    "\n",
    "test_dataset = test_dataset.map(preprocess_function, batched=True)\n",
    "\n",
    "# Selecting the desired columns for evaluation\n",
    "test_dataset = test_dataset.remove_columns(['sub_category'])  # remove other unnecessary columns if any\n",
    "\n",
    "# Set format for the test dataset\n",
    "test_dataset.set_format(type='torch', columns=['input_ids', 'attention_mask', 'labels'])\n"
   ]
  },
  {
   "cell_type": "code",
   "execution_count": null,
   "metadata": {},
   "outputs": [],
   "source": [
    "from transformers import TrainingArguments\n",
    "\n",
    "# Defining our training arguments\n",
    "training_args = TrainingArguments(\n",
    "    output_dir=\"./results\",  # Output directory for checkpoints and logs\n",
    "    per_device_train_batch_size=8,  # Batch size per device during training\n",
    "    per_device_eval_batch_size=64,  # Batch size for evaluation\n",
    "    num_train_epochs=3,  # Number of training epochs\n",
    "    learning_rate=2e-5,  # Learning rate\n",
    "    weight_decay=0.01,  # Weight decay\n",
    "    logging_dir='./logs',  # Directory for storing logs\n",
    "    logging_steps=10,\n",
    "    evaluation_strategy=\"epoch\",\n",
    "    save_strategy=\"epoch\",\n",
    "    load_best_model_at_end=True,\n",
    "\n",
    ")"
   ]
  },
  {
   "cell_type": "markdown",
   "metadata": {},
   "source": [
    "## Model Evaluation"
   ]
  },
  {
   "cell_type": "code",
   "execution_count": null,
   "metadata": {},
   "outputs": [],
   "source": [
    "from evaluate import load\n",
    "\n",
    "# Loading the accuracy metric\n",
    "accuracy_metric = load(\"accuracy\")\n",
    "\n",
    "# Defining  custom compute metrics function\n",
    "def compute_metrics(eval_pred):\n",
    "    logits, labels = eval_pred\n",
    "    predictions = logits.argmax(axis=-1)\n",
    "    return accuracy_metric.compute(predictions=predictions, references=labels)\n",
    "\n",
    "# Initializing Trainer with the compute metrics function for evaluation\n",
    "trainer = Trainer(\n",
    "    model=model,\n",
    "    args=training_args,\n",
    "    train_dataset=train_dataset,  # Optional: if you want to retrain\n",
    "    eval_dataset=test_dataset,\n",
    "    compute_metrics=compute_metrics\n",
    ")\n",
    "\n",
    "# Running evaluation\n",
    "eval_results = trainer.evaluate()\n",
    "print(f\"Accuracy on test set: {eval_results['eval_accuracy']:.4f}\")"
   ]
  }
 ],
 "metadata": {
  "colab": {
   "provenance": []
  },
  "kernelspec": {
   "display_name": "Python 3 (ipykernel)",
   "language": "python",
   "name": "python3"
  },
  "language_info": {
   "codemirror_mode": {
    "name": "ipython",
    "version": 3
   },
   "file_extension": ".py",
   "mimetype": "text/x-python",
   "name": "python",
   "nbconvert_exporter": "python",
   "pygments_lexer": "ipython3",
   "version": "3.11.3"
  }
 },
 "nbformat": 4,
 "nbformat_minor": 1
}
